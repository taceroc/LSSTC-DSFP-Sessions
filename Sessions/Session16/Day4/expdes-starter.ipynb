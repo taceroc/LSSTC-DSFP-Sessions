{
 "cells": [
  {
   "cell_type": "markdown",
   "id": "3e40f248",
   "metadata": {},
   "source": [
    "# Experimental design\n",
    "\n",
    "_Alex I. Malz (LINCC@CMU)_\n",
    "\n",
    "_LSSTC DSFP #16_\n",
    "\n",
    "I initially started a version of this problem set based on a data challenge I prepared for [Quarks to Cosmos with AI](https://events.mcs.cmu.edu/qtc2021/), which provides all the pieces you need to run an interesting experiment with photo-$z$ posterior PDF estimation models by a variety of metrics.\n",
    "However, that seems overly specific for the DSFP -- the goal is for you to learn to think adversarially in your own research, not in mine! -- so this one is more generalizable."
   ]
  },
  {
   "cell_type": "markdown",
   "id": "3cca8b94",
   "metadata": {},
   "source": [
    "## Objective\n",
    "\n",
    "The goal of this problem set is for you to learn to identify and circumvent flaws in an experiment.\n",
    "To us as astronomers, an experiment may constitute the way we compare analysis methods or models or the impact of systematic imperfections in data or priors.\n",
    "The way we decide whether a procedure we came up with is sufficient for a task or better than some alternative is conditioned on our choice of metric."
   ]
  },
  {
   "cell_type": "markdown",
   "id": "f828185a",
   "metadata": {},
   "source": [
    "## Problem 1\n",
    "\n",
    "Here are four sets of two-dimensional data.\n",
    "You can imagine that they're the predictions of four models for estimating the relationship between variables $x$ and $y$ if you like (e.g. galaxy cluster concentration as a function of dark matter halo mass), or four observations that may or may not have come from a common process (e.g. folded time-series of variable stars).\n",
    "In this problem, you don't know the true values and can't conduct a controlled experiment, so we'll try to compare them using summary statistics we might actually apply to comparing the results of several estimation methods."
   ]
  },
  {
   "cell_type": "code",
   "execution_count": 71,
   "id": "5ea901b4",
   "metadata": {},
   "outputs": [],
   "source": [
    "import numpy as np\n",
    "np.random.seed(12)\n",
    "\n",
    "a = np.random.randint(0,5, size=(10)) # or (512,3)\n",
    "b = np.random.randint(0,5, size=(10)) # or (1024,3)\n",
    "\n",
    "diff = a[np.newaxis,:]-b[:,np.newaxis]\n",
    "\n",
    "dist = np.sum(diff**2,axis=-1)"
   ]
  },
  {
   "cell_type": "code",
   "execution_count": 78,
   "id": "586ab36d",
   "metadata": {},
   "outputs": [
    {
     "data": {
      "text/plain": [
       "array([[3, 3, 1, 2, 3, 3, 4, 0, 1, 4]])"
      ]
     },
     "execution_count": 78,
     "metadata": {},
     "output_type": "execute_result"
    }
   ],
   "source": [
    "a[np.newaxis,:]"
   ]
  },
  {
   "cell_type": "code",
   "execution_count": 77,
   "id": "e84d9153",
   "metadata": {},
   "outputs": [
    {
     "data": {
      "text/plain": [
       "array([[1],\n",
       "       [2],\n",
       "       [3],\n",
       "       [2],\n",
       "       [0],\n",
       "       [0],\n",
       "       [4],\n",
       "       [2],\n",
       "       [1],\n",
       "       [3]])"
      ]
     },
     "execution_count": 77,
     "metadata": {},
     "output_type": "execute_result"
    }
   ],
   "source": [
    "b[:,np.newaxis]"
   ]
  },
  {
   "cell_type": "code",
   "execution_count": 74,
   "id": "d92dd115",
   "metadata": {},
   "outputs": [
    {
     "data": {
      "text/plain": [
       "array([ 1,  1, -1,  0,  1,  1,  2, -2, -1,  2])"
      ]
     },
     "execution_count": 74,
     "metadata": {},
     "output_type": "execute_result"
    }
   ],
   "source": [
    "diff[1,:]"
   ]
  },
  {
   "cell_type": "code",
   "execution_count": 75,
   "id": "2be00c70",
   "metadata": {},
   "outputs": [
    {
     "data": {
      "text/plain": [
       "array([[ 2,  2,  0,  1,  2,  2,  3, -1,  0,  3],\n",
       "       [ 1,  1, -1,  0,  1,  1,  2, -2, -1,  2],\n",
       "       [ 0,  0, -2, -1,  0,  0,  1, -3, -2,  1],\n",
       "       [ 1,  1, -1,  0,  1,  1,  2, -2, -1,  2],\n",
       "       [ 3,  3,  1,  2,  3,  3,  4,  0,  1,  4],\n",
       "       [ 3,  3,  1,  2,  3,  3,  4,  0,  1,  4],\n",
       "       [-1, -1, -3, -2, -1, -1,  0, -4, -3,  0],\n",
       "       [ 1,  1, -1,  0,  1,  1,  2, -2, -1,  2],\n",
       "       [ 2,  2,  0,  1,  2,  2,  3, -1,  0,  3],\n",
       "       [ 0,  0, -2, -1,  0,  0,  1, -3, -2,  1]])"
      ]
     },
     "execution_count": 75,
     "metadata": {},
     "output_type": "execute_result"
    }
   ],
   "source": [
    "diff"
   ]
  },
  {
   "cell_type": "code",
   "execution_count": 76,
   "id": "8fbc0f11",
   "metadata": {},
   "outputs": [
    {
     "data": {
      "text/plain": [
       "array([36, 18, 20, 18, 74, 74, 42, 18, 36, 20])"
      ]
     },
     "execution_count": 76,
     "metadata": {},
     "output_type": "execute_result"
    }
   ],
   "source": [
    "dist"
   ]
  },
  {
   "cell_type": "code",
   "execution_count": 14,
   "id": "54e7e8b7",
   "metadata": {},
   "outputs": [],
   "source": [
    "x1 = [10, 8, 13, 9, 11, 1a4, 6, 4, 12, 7, 5]\n",
    "y1 = [8.04, 6.95, 7.58, 8.81, 8.33, 9.96, 7.24, 4.26, 10.84, 4.82, 5.68]\n",
    "\n",
    "x2 = [10, 8, 13, 9, 11, 14, 6, 4, 12, 7, 5]\n",
    "y2 = [9.14, 8.14, 8.74, 8.77, 9.26, 8.10, 6.13, 3.10, 9.13, 7.26, 4.74]\n",
    "\n",
    "x3 = [10, 8, 13, 9, 11, 14, 6, 4, 12, 7, 5]\n",
    "y3 = [7.46, 6.77, 12.74, 7.11, 7.81, 8.84, 6.08, 5.39, 8.15, 6.42, 5.73]\n",
    "\n",
    "x4 = [8, 8, 8, 8, 8, 8, 8, 19, 8, 8, 8]\n",
    "y4 = [6.58, 5.76, 7.71, 8.84, 8.47, 7.04, 5.25, 12.50, 5.56, 7.91, 6.89]"
   ]
  },
  {
   "cell_type": "markdown",
   "id": "94c79272",
   "metadata": {},
   "source": [
    "### 1a\n",
    "\n",
    "The simplest summary statistic is the first moment, a.k.a. the mean, $\\mu_{z} = \\frac{1}{N}\\sum_{i=1}^{N}z_{n}$.\n",
    "Write a function to compute the mean of a one-dimensional list.\n",
    "_Hint: Use `scipy.stats.moment()` if you want a shortcut._\n",
    "Compute the mean of $x$ and the mean of $y$ for each data set.\n",
    "Interpret the results."
   ]
  },
  {
   "cell_type": "code",
   "execution_count": 15,
   "id": "755e6ea4",
   "metadata": {},
   "outputs": [],
   "source": [
    "import numpy as np\n",
    "import matplotlib.pyplot as plt\n",
    "import pandas as pd\n",
    "import scipy.stats"
   ]
  },
  {
   "cell_type": "code",
   "execution_count": 16,
   "id": "537cce11",
   "metadata": {},
   "outputs": [],
   "source": [
    "X = np.array((x1, x2, x3, x3))\n",
    "Y = np.array((y1, y2, y3, y3))"
   ]
  },
  {
   "cell_type": "code",
   "execution_count": 19,
   "id": "08511d41",
   "metadata": {},
   "outputs": [
    {
     "name": "stdout",
     "output_type": "stream",
     "text": [
      "[9. 9. 9. 9.] [7.50090909 7.50090909 7.5        7.5       ]\n"
     ]
    }
   ],
   "source": [
    "X_mean = np.mean(X, axis = 1)\n",
    "Y_mean = np.mean(Y, axis = 1)\n",
    "print(X_mean, Y_mean)"
   ]
  },
  {
   "cell_type": "markdown",
   "id": "62a2befa",
   "metadata": {},
   "source": [
    "All xs have the samen mean and all ys almost have the same mean too"
   ]
  },
  {
   "cell_type": "markdown",
   "id": "618bdaba",
   "metadata": {},
   "source": [
    "### 1b\n",
    "\n",
    "The next simplest summary statistic is the second moment, a.k.a. the variance, $\\sigma_{z}^{2} = \\frac{1}{N-1}\\sum_{i=1}^{N}(z_{n} - \\mu_{z})^{2}$.\n",
    "Write a function to compute the variance of a one-dimensional list.\n",
    "_Hint: Use `scipy.stats.moment()` if you want a shortcut._\n",
    "Compute the variance of $x$ and the variance of $y$ for each data set.\n",
    "Interpret the results."
   ]
  },
  {
   "cell_type": "code",
   "execution_count": 37,
   "id": "90db8e3d",
   "metadata": {},
   "outputs": [
    {
     "name": "stdout",
     "output_type": "stream",
     "text": [
      "[10. 10. 10. 10.] [3.75206281 3.75239008 3.74783636 3.74783636]\n"
     ]
    }
   ],
   "source": [
    "X_var = np.var(X, axis = 1)\n",
    "Y_var = np.var(Y, axis = 1)\n",
    "print(X_var, Y_var)"
   ]
  },
  {
   "cell_type": "markdown",
   "id": "67f16863",
   "metadata": {},
   "source": [
    "### 1c\n",
    "\n",
    "Judging by the first two moments, we need something a little more sophisticated to quantitatively distinguish these data sets.\n",
    "Let's make use of both $x$ and $y$ together.\n",
    "Pearson's correlation coefficient $r = \\frac{\\sum_{i=1}^{N}(x_{i}-\\mu_{x})(y_{i}-\\mu_{y})}{\\sqrt{\\sum_{i=1}^{N}(x_{i}-\\mu_{x})^{2}\\sum_{i=1}^{N}(y_{i}-\\mu_{y})^{2}}}$ is a measure of the degree to which variables $x$ and $y$ are correlated with one another.\n",
    "Write a function to compute the correlation coefficient of a two-dimensional data set.\n",
    "_Hint: Use `scipy.stats.pearsonr()` if you want a shortcut._\n",
    "Compute the $r$ for each data set.\n",
    "Interpret the results."
   ]
  },
  {
   "cell_type": "code",
   "execution_count": 61,
   "id": "c1e7b78f",
   "metadata": {},
   "outputs": [
    {
     "name": "stdout",
     "output_type": "stream",
     "text": [
      "(0.8164205163448397, 0.0021696288730788035)\n",
      "(0.8162365060002427, 0.0021788162369108027)\n",
      "(0.8162867394895981, 0.0021763052792280304)\n",
      "(0.8162867394895981, 0.0021763052792280304)\n"
     ]
    }
   ],
   "source": [
    "for i in range(4):\n",
    "    print(scipy.stats.pearsonr(X[i], Y[i]))\n",
    "# Pearson product-moment correlation coefficent., The p-value associated with the chosen alternative."
   ]
  },
  {
   "cell_type": "markdown",
   "id": "46ac13aa",
   "metadata": {},
   "source": [
    "### 1d\n",
    "\n",
    "They sure do seem to all be the same, yet the numbers in the lists are different!\n",
    "Let's try fitting a simple model to them.\n",
    "Recycle your code from earlier in the week to fit a line to data and apply it to these four data sets.\n",
    "_If you didn't get that far in a notebook, you can use `scipy.stats.linregress`._\n",
    "Interpret the resulting slope and intercept values _(and coefficient of determination, p-value, and standard error, if you used the canned fitting function._"
   ]
  },
  {
   "cell_type": "code",
   "execution_count": 115,
   "id": "f3df1d81",
   "metadata": {},
   "outputs": [
    {
     "name": "stdout",
     "output_type": "stream",
     "text": [
      "x1, y1: intercept = 3.0000909, slope = 0.5000909\n",
      "x2, y2: intercept = 3.0009091, slope = 0.5000000\n",
      "x3, y3: intercept = 3.0024545, slope = 0.4997273\n",
      "x4, y4: intercept = 3.0024545, slope = 0.4997273\n"
     ]
    }
   ],
   "source": [
    "result = list()\n",
    "for i in range(4):\n",
    "    result.append(scipy.stats.linregress(X[i], Y[i]))\n",
    "    print(\"x{}`, y{}: intercept = {:.7f}, slope = {:.7f}\".format(i+1, i+1, result[i].intercept, result[i].slope))"
   ]
  },
  {
   "cell_type": "code",
   "execution_count": 117,
   "id": "1c5d0f79",
   "metadata": {},
   "outputs": [
    {
     "data": {
      "text/plain": [
       "LinregressResult(slope=0.5000909090909091, intercept=3.0000909090909103, rvalue=0.8164205163448399, pvalue=0.00216962887307879, stderr=0.11790550059563408)"
      ]
     },
     "execution_count": 117,
     "metadata": {},
     "output_type": "execute_result"
    }
   ],
   "source": [
    "result[0]"
   ]
  },
  {
   "cell_type": "markdown",
   "id": "b1c53039",
   "metadata": {},
   "source": [
    "### 1e\n",
    "\n",
    "Finally, plot the four data sets, along with the line.\n",
    "Interpret the results."
   ]
  },
  {
   "cell_type": "code",
   "execution_count": 99,
   "id": "0da14335",
   "metadata": {},
   "outputs": [
    {
     "data": {
      "text/plain": [
       "<matplotlib.collections.PathCollection at 0x7fdf3facbd00>"
      ]
     },
     "execution_count": 99,
     "metadata": {},
     "output_type": "execute_result"
    },
    {
     "data": {
      "image/png": "[encoded data removed]",
      "text/plain": [
       "<Figure size 432x288 with 1 Axes>"
      ]
     },
     "metadata": {
      "needs_background": "light"
     },
     "output_type": "display_data"
    }
   ],
   "source": [
    "plt.scatter(X[0], Y[0])"
   ]
  },
  {
   "cell_type": "code",
   "execution_count": 97,
   "id": "dd8ea443",
   "metadata": {},
   "outputs": [
    {
     "data": {
      "text/plain": [
       "array([10,  8, 13,  9, 11, 14,  6,  4, 12,  7,  5])"
      ]
     },
     "execution_count": 97,
     "metadata": {},
     "output_type": "execute_result"
    }
   ],
   "source": [
    "X[0]"
   ]
  },
  {
   "cell_type": "code",
   "execution_count": 121,
   "id": "9da2c3a2",
   "metadata": {},
   "outputs": [
    {
     "data": {
      "image/png": "[encoded data removed]",
      "text/plain": [
       "<Figure size 432x288 with 4 Axes>"
      ]
     },
     "metadata": {
      "needs_background": "light"
     },
     "output_type": "display_data"
    }
   ],
   "source": [
    "fig, ax = plt.subplots(2,2)\n",
    "\n",
    "ax[0,0].scatter(X[0], Y[0], label = \"1\")\n",
    "ax[0,0].legend()\n",
    "ax[0,0].plot(X[0], result[i].intercept + result[i].slope*X[0], c = \"r\")\n",
    "ax[0,1].scatter(X[1], Y[1], label = \"2\")\n",
    "ax[0,1].legend()\n",
    "ax[0,1].plot(X[1], result[i].intercept + result[i].slope*X[1], c = \"r\")\n",
    "ax[1,0].scatter(X[1], Y[2], label = \"3\")\n",
    "ax[1,0].plot(X[2], result[i].intercept + result[i].slope*X[2], c = \"r\")\n",
    "ax[1,1].scatter(X[1], Y[3], label = \"4\")\n",
    "ax[1,1].legend()\n",
    "ax[1,1].plot(X[3], result[i].intercept + result[i].slope*X[3], c = \"r\")\n",
    "\n",
    "plt.tight_layout()"
   ]
  },
  {
   "cell_type": "markdown",
   "id": "20a34b8d",
   "metadata": {},
   "source": [
    "### 1f\n",
    "\n",
    "If you had to distinguish these data sets quantitatively, what metric(s) would you use?\n",
    "Implement at least one and show that the data sets don't have the same value(s) by your metric(s).\n",
    "Or, show that other metrics you can think of also can't distinguish them.\n",
    "\n",
    "_Hint: Start by thinking of a way to distinguish just one from the others._\n",
    "_As a challenge problem, then come up with another set of $(x, y)$ that will be degenerate by another metric._"
   ]
  },
  {
   "cell_type": "code",
   "execution_count": 125,
   "id": "75a3c827",
   "metadata": {},
   "outputs": [
    {
     "data": {
      "text/plain": [
       "(array([10.84,  9.26, 12.74, 12.74]), array([4.26, 3.1 , 5.39, 5.39]))"
      ]
     },
     "execution_count": 125,
     "metadata": {},
     "output_type": "execute_result"
    }
   ],
   "source": [
    "np.max(Y, axis=1), np.min(Y, axis=1)"
   ]
  },
  {
   "cell_type": "markdown",
   "id": "0179bcab",
   "metadata": {},
   "source": [
    "Highlight for spoiler and credit.\n",
    "\n",
    "<font color='white'>\n",
    "By the way, Problem 1 is known as Anscombe's quartet and was devised to show statisticians the value of visual inspection over total reliance on quantitative metrics.\n",
    "The solutions can be found in [this nifty blog post](https://datasciencesphere.com/visualization/visualizing-anscombe-quartet-using-python/).\n",
    "</font>"
   ]
  },
  {
   "cell_type": "markdown",
   "id": "e9089752",
   "metadata": {},
   "source": [
    "## Problem 2\n",
    "\n",
    "Let's try a more complicated version of this.\n",
    "Download some other data sets [here](https://www.autodesk.com/content/dam/autodesk/www/autodesk-reasearch/Publications/pdf/SameStatsCode.zip).\n",
    "Let's inspect them first."
   ]
  },
  {
   "cell_type": "code",
   "execution_count": 8,
   "id": "a0caa6b5",
   "metadata": {},
   "outputs": [
    {
     "name": "stdout",
     "output_type": "stream",
     "text": [
      "/home/taceroc/LSSTC_DSFP/LSSTC-DSFP-Sessions/Sessions/Session16/Day4\r\n"
     ]
    }
   ],
   "source": [
    "!pwd"
   ]
  },
  {
   "cell_type": "code",
   "execution_count": 13,
   "id": "1123ab15",
   "metadata": {},
   "outputs": [
    {
     "name": "stdout",
     "output_type": "stream",
     "text": [
      "Index(['dataset', 'x', 'y'], dtype='object')\n",
      "13\n"
     ]
    }
   ],
   "source": [
    "import pandas as pd\n",
    "\n",
    "data = pd.read_csv('generated_datasets/DatasaurusDozen.tsv', sep='\\t')\n",
    "print(data.columns)\n",
    "\n",
    "print(len(data['dataset'].unique()))"
   ]
  },
  {
   "cell_type": "code",
   "execution_count": 20,
   "id": "ffa8f48d",
   "metadata": {},
   "outputs": [
    {
     "data": {
      "text/html": [
       "<div>\n",
       "<style scoped>\n",
       "    .dataframe tbody tr th:only-of-type {\n",
       "        vertical-align: middle;\n",
       "    }\n",
       "\n",
       "    .dataframe tbody tr th {\n",
       "        vertical-align: top;\n",
       "    }\n",
       "\n",
       "    .dataframe thead th {\n",
       "        text-align: right;\n",
       "    }\n",
       "</style>\n",
       "<table border=\"1\" class=\"dataframe\">\n",
       "  <thead>\n",
       "    <tr style=\"text-align: right;\">\n",
       "      <th></th>\n",
       "      <th>dataset</th>\n",
       "      <th>x</th>\n",
       "      <th>y</th>\n",
       "    </tr>\n",
       "  </thead>\n",
       "  <tbody>\n",
       "    <tr>\n",
       "      <th>0</th>\n",
       "      <td>dino</td>\n",
       "      <td>55.384600</td>\n",
       "      <td>97.179500</td>\n",
       "    </tr>\n",
       "    <tr>\n",
       "      <th>1</th>\n",
       "      <td>dino</td>\n",
       "      <td>51.538500</td>\n",
       "      <td>96.025600</td>\n",
       "    </tr>\n",
       "    <tr>\n",
       "      <th>2</th>\n",
       "      <td>dino</td>\n",
       "      <td>46.153800</td>\n",
       "      <td>94.487200</td>\n",
       "    </tr>\n",
       "    <tr>\n",
       "      <th>3</th>\n",
       "      <td>dino</td>\n",
       "      <td>42.820500</td>\n",
       "      <td>91.410300</td>\n",
       "    </tr>\n",
       "    <tr>\n",
       "      <th>4</th>\n",
       "      <td>dino</td>\n",
       "      <td>40.769200</td>\n",
       "      <td>88.333300</td>\n",
       "    </tr>\n",
       "    <tr>\n",
       "      <th>...</th>\n",
       "      <td>...</td>\n",
       "      <td>...</td>\n",
       "      <td>...</td>\n",
       "    </tr>\n",
       "    <tr>\n",
       "      <th>1841</th>\n",
       "      <td>wide_lines</td>\n",
       "      <td>33.674442</td>\n",
       "      <td>26.090490</td>\n",
       "    </tr>\n",
       "    <tr>\n",
       "      <th>1842</th>\n",
       "      <td>wide_lines</td>\n",
       "      <td>75.627255</td>\n",
       "      <td>37.128752</td>\n",
       "    </tr>\n",
       "    <tr>\n",
       "      <th>1843</th>\n",
       "      <td>wide_lines</td>\n",
       "      <td>40.610125</td>\n",
       "      <td>89.136240</td>\n",
       "    </tr>\n",
       "    <tr>\n",
       "      <th>1844</th>\n",
       "      <td>wide_lines</td>\n",
       "      <td>39.114366</td>\n",
       "      <td>96.481751</td>\n",
       "    </tr>\n",
       "    <tr>\n",
       "      <th>1845</th>\n",
       "      <td>wide_lines</td>\n",
       "      <td>34.583829</td>\n",
       "      <td>89.588902</td>\n",
       "    </tr>\n",
       "  </tbody>\n",
       "</table>\n",
       "<p>1846 rows × 3 columns</p>\n",
       "</div>"
      ],
      "text/plain": [
       "         dataset          x          y\n",
       "0           dino  55.384600  97.179500\n",
       "1           dino  51.538500  96.025600\n",
       "2           dino  46.153800  94.487200\n",
       "3           dino  42.820500  91.410300\n",
       "4           dino  40.769200  88.333300\n",
       "...          ...        ...        ...\n",
       "1841  wide_lines  33.674442  26.090490\n",
       "1842  wide_lines  75.627255  37.128752\n",
       "1843  wide_lines  40.610125  89.136240\n",
       "1844  wide_lines  39.114366  96.481751\n",
       "1845  wide_lines  34.583829  89.588902\n",
       "\n",
       "[1846 rows x 3 columns]"
      ]
     },
     "execution_count": 20,
     "metadata": {},
     "output_type": "execute_result"
    }
   ],
   "source": [
    "data[['dataset','x', 'y']]"
   ]
  },
  {
   "cell_type": "markdown",
   "id": "84bfc461",
   "metadata": {},
   "source": [
    "### 2a\n",
    "\n",
    "We can separate them out and calculate some summary statistics:\n",
    "- How many points are in each?\n",
    "- What is the mean?\n",
    "- Variance?\n",
    "- Standard deviation?\n",
    "- Correlation coefficient?\n",
    "- Covariance $\\sum_{i=1}^{N}(x_{i}-\\mu_{x})(y_{i}-\\mu_{y})$?"
   ]
  },
  {
   "cell_type": "code",
   "execution_count": null,
   "id": "aaa71ac2",
   "metadata": {},
   "outputs": [],
   "source": [
    "datasets_grouped = data.groupby('dataset')\n",
    "print(datasets_grouped.agg(['count', 'mean', 'var', 'std']))\n",
    "print(data.groupby('dataset')[['x','y']].corr().iloc[0::2,-1])\n",
    "print(data.groupby('dataset').cov())"
   ]
  },
  {
   "cell_type": "markdown",
   "id": "a11c7ba5",
   "metadata": {},
   "source": [
    "### 2b\n",
    "\n",
    "Let's try fitting a line again to check the slopes and intercepts."
   ]
  },
  {
   "cell_type": "code",
   "execution_count": null,
   "id": "a49cbc95",
   "metadata": {},
   "outputs": [],
   "source": []
  },
  {
   "cell_type": "markdown",
   "id": "3de98bac",
   "metadata": {},
   "source": [
    "### 2c\n",
    "\n",
    "Now try plotting them, including the line."
   ]
  },
  {
   "cell_type": "code",
   "execution_count": null,
   "id": "70c488b9",
   "metadata": {},
   "outputs": [],
   "source": []
  },
  {
   "cell_type": "markdown",
   "id": "6ae6bc38",
   "metadata": {},
   "source": [
    "### 2d\n",
    "\n",
    "Again, implement a metric that can distinguish between them, and then try to think of another data set that will be indistinguishable from one of the data sets by that metric."
   ]
  },
  {
   "cell_type": "code",
   "execution_count": null,
   "id": "4ffa6f02",
   "metadata": {},
   "outputs": [],
   "source": []
  },
  {
   "cell_type": "markdown",
   "id": "3945bd22",
   "metadata": {},
   "source": [
    "Highlight for spoiler and credit.\n",
    "\n",
    "<font color='white'>\n",
    "Problem 2 uses the Datasaurus Dozen, a modern reenvisioning of Anscombe's quartet.\n",
    "The solutions can be found in [yet another nifty blog post](https://datasciencesphere.com/visualization/datasaurus-dozen-visualization-using-python/).\n",
    "</font>"
   ]
  },
  {
   "cell_type": "markdown",
   "id": "490cd77e",
   "metadata": {},
   "source": [
    "## Problem 3\n",
    "\n",
    "Now that you've seen how metrics can be fooled by pathological data, I want you to apply this kind of critical thinking to your research!\n",
    "Talk with your neighbors to take apart a problem you (or they) are working on that involves comparing methods, models, or data.\n",
    "\n",
    "### 3a\n",
    "\n",
    "Articulate the metric(s) being used to make a decision.\n",
    "\n",
    "### 3b\n",
    "\n",
    "Think of a pathological control case that would lead to a counterintuitive conclusion using the given metric(s).\n",
    "\n",
    "### 3c\n",
    "\n",
    "Think about additional metrics that could protect your decision from being \"fooled\" by a test case that doesn't address the goal."
   ]
  },
  {
   "cell_type": "markdown",
   "id": "8a8a1281",
   "metadata": {},
   "source": [
    "## Problem $\\pi$\n",
    "\n",
    "If you don't want to do the open-ended thought experiment about a research problem you or another student is working on, check out the other notebook for this problem session to explore a specific one (surprise, it's photo-$z$s)."
   ]
  },
  {
   "cell_type": "code",
   "execution_count": null,
   "id": "db8b8afb",
   "metadata": {},
   "outputs": [],
   "source": []
  }
 ],
 "metadata": {
  "kernelspec": {
   "display_name": "Python 3 (ipykernel)",
   "language": "python",
   "name": "python3"
  },
  "language_info": {
   "codemirror_mode": {
    "name": "ipython",
    "version": 3
   },
   "file_extension": ".py",
   "mimetype": "text/x-python",
   "name": "python",
   "nbconvert_exporter": "python",
   "pygments_lexer": "ipython3",
   "version": "3.8.13"
  }
 },
 "nbformat": 4,
 "nbformat_minor": 5
}
