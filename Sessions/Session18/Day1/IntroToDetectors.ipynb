{
 "cells": [
  {
   "attachments": {},
   "cell_type": "markdown",
   "id": "f4f9ad4d",
   "metadata": {},
   "source": [
    "## Introduction to Detectors"
   ]
  },
  {
   "attachments": {},
   "cell_type": "markdown",
   "id": "a2422e4c",
   "metadata": {},
   "source": [
    "Looking at calibration exposures is one of the key ways to understand CCD behavior. \n",
    "\n",
    "Let's start by looking at some bias and flat exposures. Remember a bias is a zero-exposure-time image, so no light actually hits the detector. A flat is an exposure taken with a uniform light source (usually from a light source in the telescope dome, sometimes using the twilight sky).\n",
    "\n",
    "Then, we'll do some simulations to try to understand the effects of lateral electric fields."
   ]
  },
  {
   "cell_type": "code",
   "execution_count": null,
   "id": "8b01aedb-0e92-4c84-b14c-e263665308c2",
   "metadata": {
    "execution": {
     "iopub.execute_input": "2023-06-09T17:27:03.146334Z",
     "iopub.status.busy": "2023-06-09T17:27:03.145980Z",
     "iopub.status.idle": "2023-06-09T17:27:03.434362Z",
     "shell.execute_reply": "2023-06-09T17:27:03.433778Z",
     "shell.execute_reply.started": "2023-06-09T17:27:03.146315Z"
    },
    "tags": []
   },
   "outputs": [],
   "source": [
    "# Start by importing some helpful packages:\n",
    "import numpy as np\n",
    "import matplotlib.pyplot as plt\n",
    "from astropy.io import fits\n",
    "from astropy.visualization import ZScaleInterval\n",
    "# I like using ZScale to set the scale of images. This mimics the ZScale function in ds9.\n",
    "interval = ZScaleInterval()"
   ]
  },
  {
   "attachments": {},
   "cell_type": "markdown",
   "id": "9adc6393-c72f-49a7-8142-34c5f6539bae",
   "metadata": {},
   "source": [
    "### Part 1: Measuring Read Noise and Gain\n",
    "(with credit to Colin Slater for writing this problem)\n",
    "\n",
    "##### 1. Visually inspecting the data\n",
    "We're going to be using calibration from Hyper-Suprime Cam (HSC). First, let's take a look at one of the bias exposures: "
   ]
  },
  {
   "cell_type": "code",
   "execution_count": null,
   "id": "0e201207",
   "metadata": {},
   "outputs": [],
   "source": [
    "# All of the files we will use:\n",
    "bias1_file = 'detectors_data/HSCA07222508.fits'\n",
    "bias2_file = 'detectors_data/HSCA07222708.fits'\n",
    "flat1_file = 'detectors_data/HSCA06113508.fits'\n",
    "flat2_file = 'detectors_data/HSCA06113708.fits'"
   ]
  },
  {
   "cell_type": "code",
   "execution_count": null,
   "id": "927b45d4",
   "metadata": {},
   "outputs": [],
   "source": [
    "bias1 = fits.open(bias1_file)\n",
    "# Note that a fits file contains a list of \"HDU\" objects:\n",
    "print(bias1)"
   ]
  },
  {
   "cell_type": "code",
   "execution_count": null,
   "id": "f1c36d50-5788-4f08-93dc-db6846d84530",
   "metadata": {
    "execution": {
     "iopub.execute_input": "2023-06-09T17:27:03.762894Z",
     "iopub.status.busy": "2023-06-09T17:27:03.762636Z",
     "iopub.status.idle": "2023-06-09T17:27:03.765328Z",
     "shell.execute_reply": "2023-06-09T17:27:03.764858Z",
     "shell.execute_reply.started": "2023-06-09T17:27:03.762872Z"
    },
    "tags": []
   },
   "outputs": [],
   "source": [
    "# For these files, the image data is in the second HDU (i.e. index=1) in the fits file:\n",
    "vmin, vmax = interval.get_limits( # complete\n",
    "plt.imshow( # complete\n",
    "plt.colorbar()"
   ]
  },
  {
   "attachments": {},
   "cell_type": "markdown",
   "id": "801891e4",
   "metadata": {},
   "source": [
    "...and one of the flats:"
   ]
  },
  {
   "cell_type": "code",
   "execution_count": null,
   "id": "925916a7",
   "metadata": {},
   "outputs": [],
   "source": [
    "flat1 = fits.open(flat1_file)\n",
    "vmin, vmax = interval.get_limits( # complete\n",
    "plt.imshow( # complete\n",
    "plt.colorbar()"
   ]
  },
  {
   "attachments": {},
   "cell_type": "markdown",
   "id": "15f55eee",
   "metadata": {},
   "source": [
    "With the scaling I used, the bias image is dominated by the amplifier differences. You can see that HSC detectors have four amplifiers. The corresponding segments are separated by overscan regions, which are visible in the flat image. The pixel limits of the segments are included in the header of the fits files. Below is a convenience function to read a file and return a list containing arrays with the individual segments:"
   ]
  },
  {
   "cell_type": "code",
   "execution_count": null,
   "id": "e78a2023-bdb4-40f3-9092-98661fdda01e",
   "metadata": {
    "execution": {
     "iopub.execute_input": "2023-06-09T17:33:42.500242Z",
     "iopub.status.busy": "2023-06-09T17:33:42.500013Z",
     "iopub.status.idle": "2023-06-09T17:33:42.503865Z",
     "shell.execute_reply": "2023-06-09T17:33:42.503456Z",
     "shell.execute_reply.started": "2023-06-09T17:33:42.500227Z"
    },
    "tags": []
   },
   "outputs": [],
   "source": [
    "def getSegments(fitsFile, extension=1, segments=4):\n",
    "    hdus = fits.open(fitsFile)\n",
    "    header = hdus[extension].header\n",
    "    data = hdus[extension].data\n",
    "    \n",
    "    data_segments = []\n",
    "    for s in range(1, segments + 1):\n",
    "        ampxMin = header[f'T_EFMN{s}1']\n",
    "        ampxMax = header[f'T_EFMX{s}1']\n",
    "        ampyMin = header[f'T_EFMN{s}2']\n",
    "        ampyMax = header[f'T_EFMX{s}2']\n",
    "        data_s = data[ampyMin:ampyMax, ampxMin:ampxMax]\n",
    "        data_segments.append(data_s)\n",
    "    return data_segments"
   ]
  },
  {
   "cell_type": "code",
   "execution_count": null,
   "id": "155af3d4-8fb4-4cc4-a8bb-b7fc7c0b65c3",
   "metadata": {
    "execution": {
     "iopub.execute_input": "2023-06-09T16:26:51.308231Z",
     "iopub.status.busy": "2023-06-09T16:26:51.307879Z",
     "iopub.status.idle": "2023-06-09T16:26:51.528679Z",
     "shell.execute_reply": "2023-06-09T16:26:51.528207Z",
     "shell.execute_reply.started": "2023-06-09T16:26:51.308216Z"
    },
    "tags": []
   },
   "outputs": [],
   "source": [
    "# Let's take a look at a single segment (you may want to set the ylim to get a closer look):\n",
    "bias1_segments = getSegments(bias1_file)\n",
    "# complete"
   ]
  },
  {
   "attachments": {},
   "cell_type": "markdown",
   "id": "a9a3cd36-8bf9-4db4-8490-aa7285c97df9",
   "metadata": {
    "execution": {
     "iopub.execute_input": "2023-06-09T16:22:52.632735Z",
     "iopub.status.busy": "2023-06-09T16:22:52.632362Z",
     "iopub.status.idle": "2023-06-09T16:22:52.638809Z",
     "shell.execute_reply": "2023-06-09T16:22:52.638388Z",
     "shell.execute_reply.started": "2023-06-09T16:22:52.632716Z"
    },
    "tags": []
   },
   "source": [
    "##### 2. Looking for structure\n",
    "\n",
    "The bias looks mostly like Gaussian noise, but if you look carefully some parts of the image look like they have some \"structure\". Let's make a few plots: try plotting the mean of the data along columns in one plot, and along rows in another.\n",
    "\n",
    "Start with just a single amplifier, but if you like you can learn more by plotting each amplifier as a different line. Hint: the amplifiers each have different mean levels that you probably want to subtract off."
   ]
  },
  {
   "cell_type": "code",
   "execution_count": null,
   "id": "a9748ba1",
   "metadata": {},
   "outputs": [],
   "source": [
    "# complete"
   ]
  },
  {
   "attachments": {},
   "cell_type": "markdown",
   "id": "23062ff3",
   "metadata": {},
   "source": [
    "These \"simple\" bias frames turn out to have a lot of structure in them, particularly at the start of columns. This isn't something we can dive much further into, because it's really an electronics problem (that was known about at the time). It's also worth noting that it's fractionally a small effect. We will have to make sure our subsequent analyses are not affected by the issue though."
   ]
  },
  {
   "attachments": {},
   "cell_type": "markdown",
   "id": "5a633c70-b1d8-486a-9a85-c3c8be56336e",
   "metadata": {},
   "source": [
    "##### 3. Measure the noise:"
   ]
  },
  {
   "attachments": {},
   "cell_type": "markdown",
   "id": "9298e7c2",
   "metadata": {},
   "source": [
    "Bias images usually have some repeatable structure to them, so a useful trick is to use the difference of two bias frames taken close in time. Let's measure the standard deviation for the differences between the biases, doing so separately for each amplifier. This isn't the final read noise value yet, because it's still in ADU and not in electrons. We will store the results in a dictionary for later use."
   ]
  },
  {
   "cell_type": "code",
   "execution_count": null,
   "id": "f6b57b31-2bcb-49fd-9284-8c3a5db4c5dc",
   "metadata": {
    "execution": {
     "iopub.execute_input": "2023-06-09T17:33:57.552333Z",
     "iopub.status.busy": "2023-06-09T17:33:57.552076Z",
     "iopub.status.idle": "2023-06-09T17:33:57.724806Z",
     "shell.execute_reply": "2023-06-09T17:33:57.724381Z",
     "shell.execute_reply.started": "2023-06-09T17:33:57.552316Z"
    },
    "tags": []
   },
   "outputs": [],
   "source": [
    "bias1_segments = getSegments(bias1_file)\n",
    "bias2_segments = getSegments(bias2_file)"
   ]
  },
  {
   "cell_type": "code",
   "execution_count": null,
   "id": "8f7e616e-71ed-4c0c-83ab-50c96a953fc9",
   "metadata": {
    "execution": {
     "iopub.execute_input": "2023-06-09T17:36:00.544400Z",
     "iopub.status.busy": "2023-06-09T17:36:00.544172Z",
     "iopub.status.idle": "2023-06-09T17:36:00.574964Z",
     "shell.execute_reply": "2023-06-09T17:36:00.574593Z",
     "shell.execute_reply.started": "2023-06-09T17:36:00.544386Z"
    },
    "tags": []
   },
   "outputs": [],
   "source": [
    "# Question\n",
    "measured_stddevs = {}\n",
    "\n",
    "for i in # complete\n",
    "    hdu_difference = # complete\n",
    "    \n",
    "    stddev = # complete\n",
    "\n",
    "    measured_stddevs[i] = # complete\n",
    "measured_stddevs"
   ]
  },
  {
   "attachments": {},
   "cell_type": "markdown",
   "id": "0bdd133a-5540-4613-b735-06fab91ea355",
   "metadata": {},
   "source": [
    "##### 4. Measure the gain\n",
    "\n",
    "We have just one more step before we can report the read noise. We need to measure the gains so we can convert the noise in ADU into electrons. To do that, we're going to use the trick we saw at the start of this notebook. We need to add two things though: we want to use pairs of images, to cancel out any fixed spatial patterns, and we need images with significant counts in them so that we're not just measuring read noise. The formula we want to implement is thus:\n",
    "\n",
    "$$ \\frac{1}{\\mathrm{gain}} = \\langle \\frac{(I_{1} - I_{2})^2}{I_{1} + I_{2}} \\rangle\n",
    "$$  \n",
    " \n",
    "where $I_{1}$ and $I_{2}$ are the pixel values from each image, and the $\\langle$ $\\rangle$ brackets denote taking the mean of this ratio over all pixels.\n",
    "\n"
   ]
  },
  {
   "cell_type": "code",
   "execution_count": null,
   "id": "bd94ef9e-1383-42ff-8307-e082ae13798c",
   "metadata": {
    "execution": {
     "iopub.execute_input": "2023-06-09T17:38:19.521399Z",
     "iopub.status.busy": "2023-06-09T17:38:19.521039Z",
     "iopub.status.idle": "2023-06-09T17:38:20.052883Z",
     "shell.execute_reply": "2023-06-09T17:38:20.052363Z",
     "shell.execute_reply.started": "2023-06-09T17:38:19.521383Z"
    },
    "tags": []
   },
   "outputs": [],
   "source": [
    "# We will use the flat field image files listed above:\n",
    "flat1_segments = getSegments(flat1_file)\n",
    "flat2_segments = getSegments(flat2_file)"
   ]
  },
  {
   "attachments": {},
   "cell_type": "markdown",
   "id": "7f4bebde",
   "metadata": {},
   "source": [
    "Since each amplifier can have a slightly different gain, we want to run this per-HDU and output a table of values. Since we're looping over the HDUs, we can also print the finished read noise values at the same time. Note that those have a factor of $\\sqrt{2}$ because we took the difference of two bias frames, so the noise is greater than a single image."
   ]
  },
  {
   "cell_type": "code",
   "execution_count": null,
   "id": "390f806d-fba7-43d1-be49-b1da7510ae87",
   "metadata": {
    "execution": {
     "iopub.execute_input": "2023-06-09T18:07:03.622158Z",
     "iopub.status.busy": "2023-06-09T18:07:03.621905Z",
     "iopub.status.idle": "2023-06-09T18:07:03.683998Z",
     "shell.execute_reply": "2023-06-09T18:07:03.683508Z",
     "shell.execute_reply.started": "2023-06-09T18:07:03.622142Z"
    },
    "tags": []
   },
   "outputs": [],
   "source": [
    "# Question\n",
    "for s in range(4):\n",
    "    flat1_data = # complete\n",
    "    flat2_data = # complete\n",
    "    \n",
    "    debiased_flat1 = # complete\n",
    "    debiased_flat2 = # complete\n",
    "    \n",
    "    squared_noise = # complete\n",
    "    summed_intensity = # complete\n",
    "    \n",
    "    # Some pixels with low counts are likely artifacts and can skew the measurement.\n",
    "    # It helps to only keep pixels that have significant flux; you can experiment with this cutoff\n",
    "    ok_values = summed_intensity > # complete\n",
    "\n",
    "    # Remember that as we defined gain above, the formula returns 1/gain.\n",
    "    reciprocal_gain = # complete\n",
    "    \n",
    "    read_noise = # complete\n",
    "\n",
    "    print(s, reciprocal_gain, 1/reciprocal_gain, read_noise)"
   ]
  },
  {
   "attachments": {},
   "cell_type": "markdown",
   "id": "2b19f9a7",
   "metadata": {},
   "source": [
    "I got values of about 3.4 for the gain and read noise of around 8 - 18 e-. Did those work out for you?"
   ]
  },
  {
   "attachments": {},
   "cell_type": "markdown",
   "id": "23778eea-90a2-4a7e-a3e1-c213ec40e23b",
   "metadata": {},
   "source": [
    "### Part 2: The Brighter-Fatter Effect \n",
    "\n",
    "The brighter-fatter effect means that electrons already in a pixel well effectively change the size of the pixel boundaries. We can model this effect to see why it happens. We can approximate this effect following Coulomb's Law:\n",
    "$$ \\delta(r) = \\sum_{i, j} c Q_{i, j} / r^{2} $$\n",
    "where $\\delta(r)$ is the displacement of a pixel corner at distance $r$, $c$ is some constant, $Q$ is the charge in pixel $i, j$, and $r$ is the distance between the pixel corner and the charge.\n",
    "\n",
    "We can build a model that shows the PSF distortion due to the brighter-fatter effect, using a 1d model for simplicity:\n",
    "\n",
    "##### 1. Simple case\n",
    "First, let's approximate the effect of a test charge in one pixel on the neighboring pixels.\n"
   ]
  },
  {
   "cell_type": "code",
   "execution_count": null,
   "id": "4fac71ce-8f16-4a60-bd13-1d7f3874368f",
   "metadata": {
    "execution": {
     "iopub.execute_input": "2023-06-09T19:14:32.699598Z",
     "iopub.status.busy": "2023-06-09T19:14:32.699004Z",
     "iopub.status.idle": "2023-06-09T19:14:32.784379Z",
     "shell.execute_reply": "2023-06-09T19:14:32.783950Z",
     "shell.execute_reply.started": "2023-06-09T19:14:32.699574Z"
    },
    "tags": []
   },
   "outputs": [],
   "source": [
    "# Set a semi-arbitrary value for the coefficient c. (The value shown here will result in a much bigger distortion than what is typically seen,\n",
    "# but makes visualization easier.)\n",
    "c = .02\n",
    "# Make an array of the pixel corners (you can change this, but usually it's nice to have an odd number of pixels):\n",
    "pixel_corners = np.arange(0, 22)\n",
    "# An array of the pixel centers is also convenient to have\n",
    "pixel_centers = # complete\n",
    "\n",
    "# Approximate that charge is in the center of the pixel:\n",
    "charge_location = # choose something in the range of your number of pixels\n",
    "current_charge = 1\n",
    "\n",
    "distortions = # complete\n",
    "# Plot the distortions as a function of the pixel corners:\n",
    "\n",
    "# complete\n"
   ]
  },
  {
   "attachments": {},
   "cell_type": "markdown",
   "id": "9ec34d75",
   "metadata": {},
   "source": [
    "Now, let's calculate where charge ends up with incident light with a PSF centered on the same location as above. The resulting charge will be \n",
    "\n",
    "$$ Q_{i} = \\int_{x_i}^{x_j} \\psi(x) dx\n",
    "$$\n",
    "where $Q_{i}$ is the resulting charge in pixel $i$, $x_{i}$ and $x_j$ are the two corners of pixel $i$, and $\\psi(x)$ is the PSF of the incoming light."
   ]
  },
  {
   "cell_type": "code",
   "execution_count": null,
   "id": "5268a808-887f-44cd-b26d-3e44e8bf2ce8",
   "metadata": {
    "execution": {
     "iopub.execute_input": "2023-06-09T19:28:45.120521Z",
     "iopub.status.busy": "2023-06-09T19:28:45.120144Z",
     "iopub.status.idle": "2023-06-09T19:28:45.123708Z",
     "shell.execute_reply": "2023-06-09T19:28:45.123300Z",
     "shell.execute_reply.started": "2023-06-09T19:28:45.120504Z"
    },
    "tags": []
   },
   "outputs": [],
   "source": [
    "# We will model the incoming light as a Moffat PSF\n",
    "def MoffatPSF(x, x0):\n",
    "    beta = 2.5\n",
    "    half_light_radius = 4.\n",
    "    tmp = np.power(0.5,1./(1-beta)) - 1\n",
    "    r0 = half_light_radius / np.sqrt(tmp)\n",
    "    norm = (beta-1) / (np.pi * r0**2)\n",
    "    \n",
    "    rsq = np.square(x - x0)\n",
    "    result = norm * np.power(1+rsq/(r0**2), -beta)\n",
    "    return result\n"
   ]
  },
  {
   "cell_type": "code",
   "execution_count": null,
   "id": "ee970da6",
   "metadata": {},
   "outputs": [],
   "source": [
    "distorted_pixel_corners = pixel_corners + distortions\n",
    "distorted_pixel_centers = # complete\n",
    "psf_center = 10.5\n",
    "\n",
    "# Calculate the distribution of the incident charge using the equation for Q_i above\n",
    "new_charge = # complete\n",
    "# Compare the distorted distribution with an undistorted distribution:\n",
    "plt.plot( # complete\n",
    "plt.plot( # complete\n"
   ]
  },
  {
   "attachments": {},
   "cell_type": "markdown",
   "id": "1f88b884-d6e2-4e0d-abcd-814791f98091",
   "metadata": {},
   "source": [
    "##### 2. Realistic case (bonus question)\n",
    "Now, let's model a more realistic situation in which there are existing charges in multiple pixel wells, distributed accorded to the PSF, with amplitude corresponding to a given flux:"
   ]
  },
  {
   "cell_type": "code",
   "execution_count": null,
   "id": "de7cde79-3991-4979-a4e9-96b10fe6809b",
   "metadata": {
    "execution": {
     "iopub.execute_input": "2023-06-09T19:30:40.502899Z",
     "iopub.status.busy": "2023-06-09T19:30:40.502508Z",
     "iopub.status.idle": "2023-06-09T19:30:40.596102Z",
     "shell.execute_reply": "2023-06-09T19:30:40.595712Z",
     "shell.execute_reply.started": "2023-06-09T19:30:40.502880Z"
    },
    "tags": []
   },
   "outputs": [],
   "source": [
    "# Again assume the center of the distribution is at 10.5:\n",
    "\n",
    "flux = 200\n",
    "x0 = 10.5\n",
    "current_charge = flux * MoffatPSF(pixel_centers, x0)\n"
   ]
  },
  {
   "attachments": {},
   "cell_type": "markdown",
   "id": "4ee2a6d4-4df5-4943-b23f-0bca698056fa",
   "metadata": {},
   "source": [
    "Now, let's look at the effect of this charge distribution on incoming electrons. This time, we need to consider the effect of the charges in each pixel on all the other pixels:"
   ]
  },
  {
   "cell_type": "code",
   "execution_count": null,
   "id": "11c53ab3-9ced-483f-8faf-24b1556de05e",
   "metadata": {
    "execution": {
     "iopub.execute_input": "2023-06-09T19:39:59.362797Z",
     "iopub.status.busy": "2023-06-09T19:39:59.362480Z",
     "iopub.status.idle": "2023-06-09T19:39:59.445536Z",
     "shell.execute_reply": "2023-06-09T19:39:59.445089Z",
     "shell.execute_reply.started": "2023-06-09T19:39:59.362782Z"
    },
    "tags": []
   },
   "outputs": [],
   "source": [
    "distortions = []\n",
    "for pp, pixel_center in enumerate(pixel_centers):\n",
    "    distortions_pp = # complete\n",
    "    distortions.append(distortions_pp)\n",
    "total_distortions = # complete\n",
    "plt.plot( # complete"
   ]
  },
  {
   "attachments": {},
   "cell_type": "markdown",
   "id": "488fc706",
   "metadata": {},
   "source": [
    "Again, let's see how this pixel distortion affects the distribution of incoming electrons:"
   ]
  },
  {
   "cell_type": "code",
   "execution_count": null,
   "id": "6f151e43",
   "metadata": {},
   "outputs": [],
   "source": [
    "distorted_pixel_corners = # complete\n",
    "distorted_pixel_centers = # complete\n",
    "psf_center = 10.5\n",
    "\n",
    "new_charge = # complete\n",
    "# Plot distorted vs undistorted distributions:\n",
    "plt.plot( # complete\n",
    "plt.plot( # complete"
   ]
  },
  {
   "attachments": {},
   "cell_type": "markdown",
   "id": "bc10a28e",
   "metadata": {},
   "source": [
    "Finally, we can use this to model what happens over the course of an exposure. In this case, we start with no charge in the pixel wells and no distortions. Then, as charge builds up at the location of sources, incoming electrons experience more and more deflection due to lateral fields. In practice, we can approximate this by breaking the exposure time into steps, and adding up the charge that accumulates in each pixel during each time step:"
   ]
  },
  {
   "cell_type": "code",
   "execution_count": null,
   "id": "40b6bf3c-b31f-4a2a-9eca-428db82c2954",
   "metadata": {},
   "outputs": [],
   "source": [
    "# Again assume the center of the distribution is at 10.5:\n",
    "flux = 2000\n",
    "x0 = 10.5\n",
    "timeSteps = 5\n",
    "current_charge = np.zeros(len(pixel_centers))\n",
    "for t in range(timeSteps):\n",
    "    flux_t = flux / timeSteps\n",
    "\n",
    "    distortions = []\n",
    "    for pp, pixel_center in enumerate(pixel_centers):\n",
    "        # complete"
   ]
  },
  {
   "attachments": {},
   "cell_type": "markdown",
   "id": "1bce4c04",
   "metadata": {},
   "source": [
    "You should see that the distribution of charges gets broader and broader in each time step."
   ]
  },
  {
   "attachments": {},
   "cell_type": "markdown",
   "id": "dddede7d",
   "metadata": {},
   "source": []
  }
 ],
 "metadata": {
  "kernelspec": {
   "display_name": "base",
   "language": "python",
   "name": "python3"
  },
  "language_info": {
   "codemirror_mode": {
    "name": "ipython",
    "version": 3
   },
   "file_extension": ".py",
   "mimetype": "text/x-python",
   "name": "python",
   "nbconvert_exporter": "python",
   "pygments_lexer": "ipython3",
   "version": "3.10.9"
  }
 },
 "nbformat": 4,
 "nbformat_minor": 5
}
