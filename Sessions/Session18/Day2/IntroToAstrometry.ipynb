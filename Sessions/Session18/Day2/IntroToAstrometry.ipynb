{
 "cells": [
  {
   "cell_type": "markdown",
   "id": "8ae22b21-c7d7-42cf-a4bd-47784a71b729",
   "metadata": {},
   "source": [
    "# Introduction to Astrometry Notebook"
   ]
  },
  {
   "cell_type": "markdown",
   "id": "4f295204-9595-450a-ae4d-47c863ec7855",
   "metadata": {},
   "source": [
    "We're going to take sources from an HSC observation and match them to Gaia, look at the separations, then fit the wcs and look at  focal plane distortions, finally we'll look at the effect of proper motions, then apply proper motions and parallax and redo the fit. \n",
    "\n",
    "If that is too fast, also fit the source positions.\n",
    "Potential extras: do a better fit using error of measurements, try to find bug in astropy proper motion."
   ]
  },
  {
   "cell_type": "markdown",
   "id": "1aec4e9f-b975-4179-8bd8-104541582b01",
   "metadata": {},
   "source": [
    "#### First, load some helpful packages:"
   ]
  },
  {
   "cell_type": "code",
   "execution_count": 1,
   "id": "f555d57d-46f2-4aec-a0e8-cea2f152fc82",
   "metadata": {
    "execution": {
     "iopub.execute_input": "2023-06-08T18:48:35.224999Z",
     "iopub.status.busy": "2023-06-08T18:48:35.224767Z",
     "iopub.status.idle": "2023-06-08T18:48:35.227935Z",
     "shell.execute_reply": "2023-06-08T18:48:35.227505Z",
     "shell.execute_reply.started": "2023-06-08T18:48:35.224984Z"
    },
    "tags": []
   },
   "outputs": [],
   "source": [
    "# Start by loading some helpful packages:\n",
    "import numpy as np\n",
    "import matplotlib.pyplot as plt\n",
    "from astropy.coordinates import SkyCoord\n",
    "import astropy.wcs\n",
    "import astropy.units as u\n",
    "from astropy.io import fits\n",
    "from astropy import wcs\n",
    "import pandas as pd\n",
    "from glob import glob\n",
    "import re"
   ]
  },
  {
   "cell_type": "markdown",
   "id": "92cd083e",
   "metadata": {},
   "source": [
    "Normally, I wouldn't recommend suppressing warning messages, but in this case astropy will complain a lot about the input files, so it's helpful here:"
   ]
  },
  {
   "cell_type": "code",
   "execution_count": 2,
   "id": "586563ee",
   "metadata": {},
   "outputs": [],
   "source": [
    "import warnings\n",
    "from astropy.utils.exceptions import AstropyWarning\n",
    "warnings.simplefilter('ignore', category=AstropyWarning)"
   ]
  },
  {
   "cell_type": "markdown",
   "id": "6824607d",
   "metadata": {},
   "source": [
    "## Part 1: Fitting a WCS"
   ]
  },
  {
   "cell_type": "markdown",
   "id": "61ab13f3-8d94-4828-ac9e-8f1373347d0c",
   "metadata": {},
   "source": [
    "#### 1. Matching sources to a reference catalog\n",
    "\n",
    "We start by loading the sample data sets. In the \"astrometry_data\" subdirectory, there are files containing the sources measured in one HSC exposure. There is one file for each detector. These source catalogs only contain isolated stars that are appropriate for fitting the astrometric solution (i.e., there are no galaxies or stars that are close to galaxies). There is also one file with a subset of the Gaia catalog overlapping the footprint of the HSC exposure."
   ]
  },
  {
   "cell_type": "markdown",
   "id": "314bf585-934f-4b47-b2c5-a113f7f58c5c",
   "metadata": {},
   "source": [
    "First, load the Gaia catalog:\n",
    "(In this Gaia catalog, missing entries are denoted by NaNs, so you probably want to filter these out.)"
   ]
  },
  {
   "cell_type": "code",
   "execution_count": 4,
   "id": "0d7d08ed",
   "metadata": {},
   "outputs": [
    {
     "name": "stdout",
     "output_type": "stream",
     "text": [
      "Defaulting to user installation because normal site-packages is not writeable\n",
      "Requirement already satisfied: pyarrow in /home/taceroc/.local/lib/python3.10/site-packages (12.0.1)\n",
      "Requirement already satisfied: numpy>=1.16.6 in /home/taceroc/.local/lib/python3.10/site-packages (from pyarrow) (1.24.3)\n"
     ]
    }
   ],
   "source": [
    "! pip install pyarrow"
   ]
  },
  {
   "cell_type": "code",
   "execution_count": 5,
   "id": "9c9c1999",
   "metadata": {},
   "outputs": [
    {
     "name": "stdout",
     "output_type": "stream",
     "text": [
      "Defaulting to user installation because normal site-packages is not writeable\n",
      "Requirement already satisfied: fastparquet in /home/taceroc/.local/lib/python3.10/site-packages (2023.4.0)\n",
      "Requirement already satisfied: pandas>=1.5.0 in /home/taceroc/.local/lib/python3.10/site-packages (from fastparquet) (2.0.2)\n",
      "Requirement already satisfied: numpy>=1.20.3 in /home/taceroc/.local/lib/python3.10/site-packages (from fastparquet) (1.24.3)\n",
      "Requirement already satisfied: cramjam>=2.3 in /home/taceroc/.local/lib/python3.10/site-packages (from fastparquet) (2.6.2)\n",
      "Requirement already satisfied: fsspec in /home/taceroc/.local/lib/python3.10/site-packages (from fastparquet) (2023.6.0)\n",
      "Requirement already satisfied: packaging in /home/taceroc/.local/lib/python3.10/site-packages (from fastparquet) (23.1)\n",
      "Requirement already satisfied: python-dateutil>=2.8.2 in /home/taceroc/.local/lib/python3.10/site-packages (from pandas>=1.5.0->fastparquet) (2.8.2)\n",
      "Requirement already satisfied: pytz>=2020.1 in /home/taceroc/.local/lib/python3.10/site-packages (from pandas>=1.5.0->fastparquet) (2023.3)\n",
      "Requirement already satisfied: tzdata>=2022.1 in /home/taceroc/.local/lib/python3.10/site-packages (from pandas>=1.5.0->fastparquet) (2023.3)\n",
      "Requirement already satisfied: six>=1.5 in /usr/lib/python3/dist-packages (from python-dateutil>=2.8.2->pandas>=1.5.0->fastparquet) (1.16.0)\n"
     ]
    }
   ],
   "source": [
    "! pip install fastparquet"
   ]
  },
  {
   "cell_type": "code",
   "execution_count": 6,
   "id": "1939cd8b",
   "metadata": {},
   "outputs": [
    {
     "ename": "ImportError",
     "evalue": "Unable to find a usable engine; tried using: 'pyarrow', 'fastparquet'.\nA suitable version of pyarrow or fastparquet is required for parquet support.\nTrying to import the above resulted in these errors:\n - Missing optional dependency 'pyarrow'. pyarrow is required for parquet support. Use pip or conda to install pyarrow.\n - Missing optional dependency 'fastparquet'. fastparquet is required for parquet support. Use pip or conda to install fastparquet.",
     "output_type": "error",
     "traceback": [
      "\u001b[0;31m---------------------------------------------------------------------------\u001b[0m",
      "\u001b[0;31mImportError\u001b[0m                               Traceback (most recent call last)",
      "Cell \u001b[0;32mIn[6], line 1\u001b[0m\n\u001b[0;32m----> 1\u001b[0m gaia_cat \u001b[38;5;241m=\u001b[39m \u001b[43mpd\u001b[49m\u001b[38;5;241;43m.\u001b[39;49m\u001b[43mread_parquet\u001b[49m\u001b[43m(\u001b[49m\u001b[38;5;124;43m'\u001b[39;49m\u001b[38;5;124;43mastrometry_data/gaia_refCat.parquet\u001b[39;49m\u001b[38;5;124;43m'\u001b[39;49m\u001b[43m)\u001b[49m\n\u001b[1;32m      2\u001b[0m good_ids \u001b[38;5;241m=\u001b[39m np\u001b[38;5;241m.\u001b[39misfinite(gaia_cat[\u001b[38;5;124m'\u001b[39m\u001b[38;5;124mcoord_ra\u001b[39m\u001b[38;5;124m'\u001b[39m])\n\u001b[1;32m      3\u001b[0m gaia_skyCoord \u001b[38;5;241m=\u001b[39m SkyCoord(gaia_cat[good_ids][\u001b[38;5;124m'\u001b[39m\u001b[38;5;124mcoord_ra\u001b[39m\u001b[38;5;124m'\u001b[39m]\u001b[38;5;241m.\u001b[39mvalues, gaia_cat[good_ids][\u001b[38;5;124m'\u001b[39m\u001b[38;5;124mcoord_dec\u001b[39m\u001b[38;5;124m'\u001b[39m]\u001b[38;5;241m.\u001b[39mvalues, unit\u001b[38;5;241m=\u001b[39m\u001b[38;5;124m\"\u001b[39m\u001b[38;5;124mrad\u001b[39m\u001b[38;5;124m\"\u001b[39m) \u001b[38;5;66;03m# complete\u001b[39;00m\n",
      "File \u001b[0;32m~/miniconda3/envs/dsfp-psf/lib/python3.11/site-packages/pandas/io/parquet.py:501\u001b[0m, in \u001b[0;36mread_parquet\u001b[0;34m(path, engine, columns, storage_options, use_nullable_dtypes, **kwargs)\u001b[0m\n\u001b[1;32m    447\u001b[0m \u001b[38;5;129m@doc\u001b[39m(storage_options\u001b[38;5;241m=\u001b[39m_shared_docs[\u001b[38;5;124m\"\u001b[39m\u001b[38;5;124mstorage_options\u001b[39m\u001b[38;5;124m\"\u001b[39m])\n\u001b[1;32m    448\u001b[0m \u001b[38;5;28;01mdef\u001b[39;00m \u001b[38;5;21mread_parquet\u001b[39m(\n\u001b[1;32m    449\u001b[0m     path: FilePath \u001b[38;5;241m|\u001b[39m ReadBuffer[\u001b[38;5;28mbytes\u001b[39m],\n\u001b[0;32m   (...)\u001b[0m\n\u001b[1;32m    454\u001b[0m     \u001b[38;5;241m*\u001b[39m\u001b[38;5;241m*\u001b[39mkwargs,\n\u001b[1;32m    455\u001b[0m ) \u001b[38;5;241m-\u001b[39m\u001b[38;5;241m>\u001b[39m DataFrame:\n\u001b[1;32m    456\u001b[0m \u001b[38;5;250m    \u001b[39m\u001b[38;5;124;03m\"\"\"\u001b[39;00m\n\u001b[1;32m    457\u001b[0m \u001b[38;5;124;03m    Load a parquet object from the file path, returning a DataFrame.\u001b[39;00m\n\u001b[1;32m    458\u001b[0m \n\u001b[0;32m   (...)\u001b[0m\n\u001b[1;32m    499\u001b[0m \u001b[38;5;124;03m    DataFrame\u001b[39;00m\n\u001b[1;32m    500\u001b[0m \u001b[38;5;124;03m    \"\"\"\u001b[39;00m\n\u001b[0;32m--> 501\u001b[0m     impl \u001b[38;5;241m=\u001b[39m \u001b[43mget_engine\u001b[49m\u001b[43m(\u001b[49m\u001b[43mengine\u001b[49m\u001b[43m)\u001b[49m\n\u001b[1;32m    503\u001b[0m     \u001b[38;5;28;01mreturn\u001b[39;00m impl\u001b[38;5;241m.\u001b[39mread(\n\u001b[1;32m    504\u001b[0m         path,\n\u001b[1;32m    505\u001b[0m         columns\u001b[38;5;241m=\u001b[39mcolumns,\n\u001b[0;32m   (...)\u001b[0m\n\u001b[1;32m    508\u001b[0m         \u001b[38;5;241m*\u001b[39m\u001b[38;5;241m*\u001b[39mkwargs,\n\u001b[1;32m    509\u001b[0m     )\n",
      "File \u001b[0;32m~/miniconda3/envs/dsfp-psf/lib/python3.11/site-packages/pandas/io/parquet.py:52\u001b[0m, in \u001b[0;36mget_engine\u001b[0;34m(engine)\u001b[0m\n\u001b[1;32m     49\u001b[0m         \u001b[38;5;28;01mexcept\u001b[39;00m \u001b[38;5;167;01mImportError\u001b[39;00m \u001b[38;5;28;01mas\u001b[39;00m err:\n\u001b[1;32m     50\u001b[0m             error_msgs \u001b[38;5;241m+\u001b[39m\u001b[38;5;241m=\u001b[39m \u001b[38;5;124m\"\u001b[39m\u001b[38;5;130;01m\\n\u001b[39;00m\u001b[38;5;124m - \u001b[39m\u001b[38;5;124m\"\u001b[39m \u001b[38;5;241m+\u001b[39m \u001b[38;5;28mstr\u001b[39m(err)\n\u001b[0;32m---> 52\u001b[0m     \u001b[38;5;28;01mraise\u001b[39;00m \u001b[38;5;167;01mImportError\u001b[39;00m(\n\u001b[1;32m     53\u001b[0m         \u001b[38;5;124m\"\u001b[39m\u001b[38;5;124mUnable to find a usable engine; \u001b[39m\u001b[38;5;124m\"\u001b[39m\n\u001b[1;32m     54\u001b[0m         \u001b[38;5;124m\"\u001b[39m\u001b[38;5;124mtried using: \u001b[39m\u001b[38;5;124m'\u001b[39m\u001b[38;5;124mpyarrow\u001b[39m\u001b[38;5;124m'\u001b[39m\u001b[38;5;124m, \u001b[39m\u001b[38;5;124m'\u001b[39m\u001b[38;5;124mfastparquet\u001b[39m\u001b[38;5;124m'\u001b[39m\u001b[38;5;124m.\u001b[39m\u001b[38;5;130;01m\\n\u001b[39;00m\u001b[38;5;124m\"\u001b[39m\n\u001b[1;32m     55\u001b[0m         \u001b[38;5;124m\"\u001b[39m\u001b[38;5;124mA suitable version of \u001b[39m\u001b[38;5;124m\"\u001b[39m\n\u001b[1;32m     56\u001b[0m         \u001b[38;5;124m\"\u001b[39m\u001b[38;5;124mpyarrow or fastparquet is required for parquet \u001b[39m\u001b[38;5;124m\"\u001b[39m\n\u001b[1;32m     57\u001b[0m         \u001b[38;5;124m\"\u001b[39m\u001b[38;5;124msupport.\u001b[39m\u001b[38;5;130;01m\\n\u001b[39;00m\u001b[38;5;124m\"\u001b[39m\n\u001b[1;32m     58\u001b[0m         \u001b[38;5;124m\"\u001b[39m\u001b[38;5;124mTrying to import the above resulted in these errors:\u001b[39m\u001b[38;5;124m\"\u001b[39m\n\u001b[1;32m     59\u001b[0m         \u001b[38;5;124mf\u001b[39m\u001b[38;5;124m\"\u001b[39m\u001b[38;5;132;01m{\u001b[39;00merror_msgs\u001b[38;5;132;01m}\u001b[39;00m\u001b[38;5;124m\"\u001b[39m\n\u001b[1;32m     60\u001b[0m     )\n\u001b[1;32m     62\u001b[0m \u001b[38;5;28;01mif\u001b[39;00m engine \u001b[38;5;241m==\u001b[39m \u001b[38;5;124m\"\u001b[39m\u001b[38;5;124mpyarrow\u001b[39m\u001b[38;5;124m\"\u001b[39m:\n\u001b[1;32m     63\u001b[0m     \u001b[38;5;28;01mreturn\u001b[39;00m PyArrowImpl()\n",
      "\u001b[0;31mImportError\u001b[0m: Unable to find a usable engine; tried using: 'pyarrow', 'fastparquet'.\nA suitable version of pyarrow or fastparquet is required for parquet support.\nTrying to import the above resulted in these errors:\n - Missing optional dependency 'pyarrow'. pyarrow is required for parquet support. Use pip or conda to install pyarrow.\n - Missing optional dependency 'fastparquet'. fastparquet is required for parquet support. Use pip or conda to install fastparquet."
     ]
    }
   ],
   "source": [
    "gaia_cat = pd.read_parquet('astrometry_data/gaia_refCat.parquet')\n",
    "good_ids = np.isfinite(gaia_cat['coord_ra'])\n",
    "gaia_skyCoord = SkyCoord(gaia_cat[good_ids]['coord_ra'].values, gaia_cat[good_ids]['coord_dec'].values, unit=\"rad\") # complete"
   ]
  },
  {
   "cell_type": "code",
   "execution_count": 5,
   "id": "69842356",
   "metadata": {},
   "outputs": [
    {
     "ename": "NameError",
     "evalue": "name 'gaia_skyCoord' is not defined",
     "output_type": "error",
     "traceback": [
      "\u001b[0;31m---------------------------------------------------------------------------\u001b[0m",
      "\u001b[0;31mNameError\u001b[0m                                 Traceback (most recent call last)",
      "Cell \u001b[0;32mIn[5], line 1\u001b[0m\n\u001b[0;32m----> 1\u001b[0m \u001b[43mgaia_skyCoord\u001b[49m\n",
      "\u001b[0;31mNameError\u001b[0m: name 'gaia_skyCoord' is not defined"
     ]
    }
   ],
   "source": [
    "gaia_skyCoord"
   ]
  },
  {
   "cell_type": "code",
   "execution_count": 5,
   "id": "08a4b579",
   "metadata": {},
   "outputs": [
    {
     "data": {
      "text/plain": [
       "'5.1'"
      ]
     },
     "execution_count": 5,
     "metadata": {},
     "output_type": "execute_result"
    }
   ],
   "source": [
    "astropy.__version__"
   ]
  },
  {
   "cell_type": "code",
   "execution_count": 6,
   "id": "61f17449",
   "metadata": {},
   "outputs": [
    {
     "data": {
      "text/plain": [
       "10278"
      ]
     },
     "execution_count": 6,
     "metadata": {},
     "output_type": "execute_result"
    }
   ],
   "source": [
    "len(gaia_skyCoord)"
   ]
  },
  {
   "cell_type": "markdown",
   "id": "54f5ece8",
   "metadata": {},
   "source": [
    "The files \"astrometry_data/1180_\\<detector\\>.fits\" contain the sources from each detector for visit 1180. The fits files have a best guess for the WCS in the primary HDU and the table of sources in the second HDU.\n",
    "\n",
    "Let's start by just looking at one source catalog:"
   ]
  },
  {
   "cell_type": "code",
   "execution_count": 7,
   "id": "ae2bd621",
   "metadata": {},
   "outputs": [],
   "source": [
    "sources = fits.open('astrometry_data/1180_42.fits')\n",
    "source_cat = pd.DataFrame(sources[1].data)\n",
    "# sources[1].header# complete\n",
    "# You can check the column names of the data:"
   ]
  },
  {
   "cell_type": "code",
   "execution_count": 8,
   "id": "a8976a03",
   "metadata": {},
   "outputs": [
    {
     "data": {
      "text/html": [
       "<div>\n",
       "<style scoped>\n",
       "    .dataframe tbody tr th:only-of-type {\n",
       "        vertical-align: middle;\n",
       "    }\n",
       "\n",
       "    .dataframe tbody tr th {\n",
       "        vertical-align: top;\n",
       "    }\n",
       "\n",
       "    .dataframe thead th {\n",
       "        text-align: right;\n",
       "    }\n",
       "</style>\n",
       "<table border=\"1\" class=\"dataframe\">\n",
       "  <thead>\n",
       "    <tr style=\"text-align: right;\">\n",
       "      <th></th>\n",
       "      <th>x</th>\n",
       "      <th>y</th>\n",
       "      <th>xErr</th>\n",
       "      <th>yErr</th>\n",
       "    </tr>\n",
       "  </thead>\n",
       "  <tbody>\n",
       "    <tr>\n",
       "      <th>0</th>\n",
       "      <td>86.929466</td>\n",
       "      <td>41.712578</td>\n",
       "      <td>0.008522</td>\n",
       "      <td>0.007694</td>\n",
       "    </tr>\n",
       "    <tr>\n",
       "      <th>1</th>\n",
       "      <td>830.306091</td>\n",
       "      <td>67.075638</td>\n",
       "      <td>0.018516</td>\n",
       "      <td>0.017054</td>\n",
       "    </tr>\n",
       "    <tr>\n",
       "      <th>2</th>\n",
       "      <td>1273.881958</td>\n",
       "      <td>91.180328</td>\n",
       "      <td>0.101088</td>\n",
       "      <td>0.090569</td>\n",
       "    </tr>\n",
       "    <tr>\n",
       "      <th>3</th>\n",
       "      <td>991.723389</td>\n",
       "      <td>102.895241</td>\n",
       "      <td>0.471776</td>\n",
       "      <td>0.549691</td>\n",
       "    </tr>\n",
       "    <tr>\n",
       "      <th>4</th>\n",
       "      <td>1603.617310</td>\n",
       "      <td>122.369308</td>\n",
       "      <td>0.359739</td>\n",
       "      <td>0.344900</td>\n",
       "    </tr>\n",
       "    <tr>\n",
       "      <th>...</th>\n",
       "      <td>...</td>\n",
       "      <td>...</td>\n",
       "      <td>...</td>\n",
       "      <td>...</td>\n",
       "    </tr>\n",
       "    <tr>\n",
       "      <th>211</th>\n",
       "      <td>1589.895874</td>\n",
       "      <td>4058.249268</td>\n",
       "      <td>0.324214</td>\n",
       "      <td>0.307766</td>\n",
       "    </tr>\n",
       "    <tr>\n",
       "      <th>212</th>\n",
       "      <td>600.276123</td>\n",
       "      <td>4062.721436</td>\n",
       "      <td>0.378630</td>\n",
       "      <td>0.399916</td>\n",
       "    </tr>\n",
       "    <tr>\n",
       "      <th>213</th>\n",
       "      <td>1308.653320</td>\n",
       "      <td>4106.986816</td>\n",
       "      <td>0.034396</td>\n",
       "      <td>0.030881</td>\n",
       "    </tr>\n",
       "    <tr>\n",
       "      <th>214</th>\n",
       "      <td>456.709015</td>\n",
       "      <td>4106.077148</td>\n",
       "      <td>0.382133</td>\n",
       "      <td>0.336319</td>\n",
       "    </tr>\n",
       "    <tr>\n",
       "      <th>215</th>\n",
       "      <td>1510.910522</td>\n",
       "      <td>4151.146973</td>\n",
       "      <td>0.534745</td>\n",
       "      <td>0.410718</td>\n",
       "    </tr>\n",
       "  </tbody>\n",
       "</table>\n",
       "<p>216 rows × 4 columns</p>\n",
       "</div>"
      ],
      "text/plain": [
       "               x            y      xErr      yErr\n",
       "0      86.929466    41.712578  0.008522  0.007694\n",
       "1     830.306091    67.075638  0.018516  0.017054\n",
       "2    1273.881958    91.180328  0.101088  0.090569\n",
       "3     991.723389   102.895241  0.471776  0.549691\n",
       "4    1603.617310   122.369308  0.359739  0.344900\n",
       "..           ...          ...       ...       ...\n",
       "211  1589.895874  4058.249268  0.324214  0.307766\n",
       "212   600.276123  4062.721436  0.378630  0.399916\n",
       "213  1308.653320  4106.986816  0.034396  0.030881\n",
       "214   456.709015  4106.077148  0.382133  0.336319\n",
       "215  1510.910522  4151.146973  0.534745  0.410718\n",
       "\n",
       "[216 rows x 4 columns]"
      ]
     },
     "execution_count": 8,
     "metadata": {},
     "output_type": "execute_result"
    }
   ],
   "source": [
    "source_cat"
   ]
  },
  {
   "cell_type": "markdown",
   "id": "d64e45fc-67f9-4cf6-91e6-dd4038c384f1",
   "metadata": {
    "execution": {
     "iopub.execute_input": "2023-06-08T19:56:18.683475Z",
     "iopub.status.busy": "2023-06-08T19:56:18.683252Z",
     "iopub.status.idle": "2023-06-08T19:56:18.693101Z",
     "shell.execute_reply": "2023-06-08T19:56:18.692671Z",
     "shell.execute_reply.started": "2023-06-08T19:56:18.683460Z"
    },
    "tags": []
   },
   "source": [
    "Now convert the source catalog pixel values to RA and Dec using the WCS in the header"
   ]
  },
  {
   "cell_type": "code",
   "execution_count": 9,
   "id": "547f5b33",
   "metadata": {},
   "outputs": [
    {
     "data": {
      "text/plain": [
       "SIMPLE  =                    T / conforms to FITS standard                      \n",
       "BITPIX  =                   16 / array data type                                \n",
       "NAXIS   =                    0 / number of array dimensions                     \n",
       "EXTEND  =                    T / FITS dataset may contain extensions            \n",
       "BUNIT   = 'ADU     '           / Unit of original pixel value                   \n",
       "BSCALE  =                  1.0 / Default scaling factor                         \n",
       "BZERO   =                32768 / Offset data range to that of unsigned short    \n",
       "BLANK   =               -32768 / Value used for NULL pixels                     \n",
       "TIMESYS = 'UTC     '           / Time System used in the header                 \n",
       "DATE-OBS= '2014-03-28'         / Observation start date  (yyyy-mm-dd)           \n",
       "UT-STR  = '06:56:41.946'       / HH:MM:SS.S UTC at the start exposure time      \n",
       "HST-STR = '20:56:41.946'       / HH:MM:SS.S HST at the beginning of exp.        \n",
       "LST-STR = '08:57:15.325'       / HH:MM:SS.SSS LST at the beginning of exposure  \n",
       "MJD-STR =    56744.28937437199 / [d] Mod.Julian Date at the start of exposure   \n",
       "UT      = '06:56:41.987'       / HH:MM:SS.S typical UTC at the exposure (middle \n",
       "HST     = '20:56:41.987'       / HH:MM:SS.S Typical HST at exposure             \n",
       "LST     = '08:57:15.366'       / HH:MM:SS.SSS Typical LST at exposure           \n",
       "MJD     =    56744.28937484836 / [d] Mod. Julian Date at typical time           \n",
       "UT-END  = '07:01:15.117'       / HH:MM:SS.S UTC at the end of the exposure      \n",
       "HST-END = '21:01:15.117'       / HH:MM:SS.S HST at the end of exposure          \n",
       "LST-END = '09:01:49.243'       / HH:MM:SS.SSS LST at the end of exposure        \n",
       "MJD-END =     56744.2925360715 / [d] Mod.Julian Date at the end of exposure     \n",
       "ZD-STR  =    23.65088679999999 / [degree] Zenith Distance at exposure start tim \n",
       "ZD-END  =          22.92509719 / [degree] Zenith Distance at exposure end time  \n",
       "SECZ-STR=                1.092 / SEC(Zenith Distance) at exposure start time    \n",
       "SECZ-END=                1.086 / SEC(Zenith Distance) at exposure end time      \n",
       "AIRMASS =    1.091503572617466 / Average airmass during exposure                \n",
       "AZIMUTH =         136.35018883 / [degree] Azimuth of tel-pointing. 0:S->90:W    \n",
       "ALTITUDE=    66.34911320000001 / [degree] Altitude ang. of telescope pointing   \n",
       "PROP-ID = 'o14406  '           / Proposal ID                                    \n",
       "OBSERVER= '\"Yasuda, Nishizawa, Kawanomoto, Furusawa, Yamada, Koike, Nakata\"' / N\n",
       "FRAMEID = 'HSCA00118108'       / /raid/S14A/20140327/object039_1_08.fits        \n",
       "EXP-ID  = 'HSCA00118000'       / First frame ID                                 \n",
       "DATASET = 'NODATA  '           / ID of dataset this data were taken             \n",
       "OBS-MOD = 'IMAG_5  '           / Observation Mode                               \n",
       "OBS-ALOC= 'Observation'        / Allocation Mode                                \n",
       "DATA-TYP= 'OBJECT  '           / Characteristics of this data                   \n",
       "OBJECT  = 'SSP-UDeep-COSMOS'   / Object                                         \n",
       "RA      = '10:00:50.522'       / Right ascension of telescope pointing          \n",
       "DEC     = '+02:13:50.96'       / Declination of telescope pointing              \n",
       "RA2000  = '10:00:50.522'       / Right ascension of telescope pointing (J2000)  \n",
       "DEC2000 = '+02:13:50.96'       / Declination of telescope pointing (J2000)      \n",
       "RADECSYS= 'FK5     '           / The equatorial coordinate system               \n",
       "EQUINOX =               2000.0 / [y] Equinox                                    \n",
       "CTYPE1  = 'RA---TAN-SIP'                                                        \n",
       "CRPIX1  =    953.2552519999999                                                  \n",
       "CRVAL1  =     150.112511312214                                                  \n",
       "CUNIT1  = 'degree  '                                                            \n",
       "CTYPE2  = 'DEC--TAN-SIP'                                                        \n",
       "CRPIX2  =          2241.526671                                                  \n",
       "CRVAL2  =    2.126695234940722                                                  \n",
       "CUNIT2  = 'degree  '                                                            \n",
       "CD1_1   = -5.5014476817794E-08                                                  \n",
       "CD1_2   = 4.67806861305731E-05                                                  \n",
       "CD2_1   = 4.67731565013891E-05                                                  \n",
       "CD2_2   = -3.1267748271620E-08                                                  \n",
       "LONGPOLE=                180.0                                                  \n",
       "WCS-ORIG= 'Rough estimation'   / Origin/quality of the WCS values               \n",
       "OBSERVAT= 'NAOJ    '           / Observatory                                    \n",
       "TELESCOP= 'Subaru  '           / Telescope name                                 \n",
       "FOC-POS = 'PRIME   '           / Position of the instrument focus unit          \n",
       "TELFOCUS= 'P_OPT2  '           / The Focus where beam reaches                   \n",
       "FOC-VAL =                  3.6 / [mm] Encoder value of the focus unit           \n",
       "FILTER01= 'HSC-z   '           / Filter barcode                                 \n",
       "EXPTIME =                270.0 / Exposure time                                  \n",
       "INSTRUME= 'Hyper Suprime-Cam'  / Name of instrument                             \n",
       "DETECTOR= 'notSet  '           / Name of the detector/CCD                       \n",
       "DET-ID  =                   42 / \"Sequential number assgined for the entire CCDs\n",
       "DET-TMP =             -100.854 / CCD Temperature value [celsius degree]         \n",
       "DET-TMED=                  0.0 / [Kelvin] Median of the detector temperature    \n",
       "DET-TMIN=                  0.0 / [Kelvin] Minimum of the detector temperature   \n",
       "DET-TMAX=                  0.0 / [Kelvin] Maximum of the detector temperature   \n",
       "GAIN    =                  0.0 / AD conversion factor (electron/ADU)            \n",
       "BIN-FCT1=                    1 / Binning factor of axis 1                       \n",
       "BIN-FCT2=                    1 / Binning factor of axis 2                       \n",
       "DET-VER = 'notSet  '           / Version of the detector control command        \n",
       "INS-VER = 'notSet  '           / Version of the instrument (hard/soft)          \n",
       "WEATHER = 'Fine    '           / Weather condition                              \n",
       "SEEING  =                  0.0 / [arcsec] FWHM of the star at telescope focus   \n",
       "ADC-TYPE= 'IN      '           / ADC name if it is used. (BLUE, RED, NONE)      \n",
       "ADC-STR =                 -0.0 / [degree] ADC pos. ang. at the start of exposur \n",
       "ADC-END =                 -0.0 / [degree] ADC pos. ang. at the end of exposure  \n",
       "INR-STR =           -40.511525 / [degree] Inst. rotator angle at start          \n",
       "INR-END =           -40.511525 / [degree] Inst. rotator angle at end            \n",
       "DOM-WND =                  0.0 / [m/s] Wind speed in the dome/enclosure         \n",
       "OUT-WND =                  0.7 / [m/s] Wind speed outside dome/enclosure        \n",
       "DOM-TMP =               275.25 / [Kelvin] Atm. temp. in the dome/enclosure      \n",
       "OUT-TMP =               272.35 / [Kelvin] Atm. temp. outside the dome/encl.     \n",
       "DOM-HUM =                 25.7 / [%] Humidity in the dome                       \n",
       "OUT-HUM =                 36.5 / [%] Humidity outside the dome/encl.            \n",
       "DOM-PRS =    621.3000000000001 / [hPa] Atm. pressure in the dome                \n",
       "OUT-PRS =    621.3000000000001 / [hPa] Atm. press. outside the dome/encl.       \n",
       "INST-PA =                  0.0 / Position Angle of the Instrument Flange        \n",
       "M2-POS1 =             -2.86013 / [mm] Stewart Platform x-value                  \n",
       "M2-POS2 =            -4.797828 / [mm] Stewart Platform y-value                  \n",
       "M2-POS3 =             5.531208 / [mm] Stewart Platform z-value                  \n",
       "M2-ANG1 =             0.750088 / [arcmin] Stewart Platform x-rotation angle     \n",
       "M2-ANG2 =             2.249748 / [arcmin] Stewart Platform y-rotation angle     \n",
       "M2-ANG3 =            -0.000194 / [arcmin] Stewart Platform z-rotation angle     \n",
       "COMMENT ------------------------------------------------------------            \n",
       "COMMENT ------------- PARAMETERS FOR HYPER SUPRIME_CAM -------------            \n",
       "COMMENT ------------------------------------------------------------            \n",
       "T_M2OFF1=                 -1.8                                                  \n",
       "T_M2OFF2=                 -2.6                                                  \n",
       "T_M2OFF3=                  3.6                                                  \n",
       "T_PROG  = 'SSP-UDeep'          / Name of research program                       \n",
       "T_PNTGID= 'U-04-010001-01, N=3/5, DRA=150, DDEC=75' / Pointing ID of this exposu\n",
       "T_PURPOS= 'OBJECT  '           / Purpose of this exposure                       \n",
       "T_DATSET= 'NODATA  '           / Dataset to which this exposure belongs         \n",
       "T_SHTDIR=                    2 / The number shows which screen did move on this \n",
       "T_AG    =                    F / AG Exposure                                    \n",
       "T_UFNAME= '/raid/S14A/20140327/object039_1_08.fits' / Original filename         \n",
       "T_NFRAME=                  112 / \"Number of total frames\"                       \n",
       "T_GAIN2 =                 3.21 / \"Gain for channel 2\"                           \n",
       "T_GAIN1 =                 3.29 / \"Gain for channel 1\"                           \n",
       "T_GAIN4 =                 3.38 / \"Gain for channel 4\"                           \n",
       "T_GAIN3 =                 3.37 / \"Gain for channel 3\"                           \n",
       "T_XFLIP =                    F / \"CCD readout is x-flipped when create image\"   \n",
       "T_CCDID = 'undefined'          / \"Name of CCD\"                                  \n",
       "T_CCDSN = '165     '           / \"CCD Serial Number\"                            \n",
       "T_YFLIP =                    F / \"CCD readout is y-flipped when create image\"   \n",
       "T_CCDTV =             -100.854 / CCD Temperature value [celsius degree]         \n",
       "T_CCDTM = '21:00:28'           / CCD Temperature retrieve time                  \n",
       "T_HEDVER= '116 CCDs for Summit4' / 2014/03/06 Updated by Utsumi, Y.             \n",
       "T_CFGFIL= '20140306.cfg'                                                        \n",
       "T_BEEID =                    1                                                  \n",
       "T_SDOID =                    8                                                  \n",
       "T_OSMN11=                  521 / MIN pixel of x-overscan region for ch1         \n",
       "T_OSMX11=                  536 / MAX pixel of x-overscan region for ch1         \n",
       "T_EFMN11=                    9 / MIN pixel of x-effective range for ch1         \n",
       "T_EFMX11=                  520 / MAX pixel of x-effective range for ch1         \n",
       "T_OSMN12=                 4226 / MIN pixel of y-overscan region for ch1         \n",
       "T_OSMX12=                 4241 / MAX pixel of y-overscan region for ch1         \n",
       "T_EFMN12=                   50 / MIN pixel of y-effective range for ch1         \n",
       "T_EFMX12=                 4225 / MAX pixel of y-effective range for ch1         \n",
       "T_OSMN21=                  537 / MIN pixel of x-overscan region for ch2         \n",
       "T_OSMX21=                  552 / MAX pixel of x-overscan region for ch2         \n",
       "T_EFMN21=                  553 / MIN pixel of x-effective range for ch2         \n",
       "T_EFMX21=                 1064 / MAX pixel of x-effective range for ch2         \n",
       "T_OSMN22=                 4226 / MIN pixel of y-overscan region for ch2         \n",
       "T_OSMX22=                 4241 / MAX pixel of y-overscan region for ch2         \n",
       "T_EFMN22=                   50 / MIN pixel of y-effective range for ch2         \n",
       "T_EFMX22=                 4225 / MAX pixel of y-effective range for ch2         \n",
       "T_OSMN31=                 1593 / MIN pixel of x-overscan region for ch3         \n",
       "T_OSMX31=                 1608 / MAX pixel of x-overscan region for ch3         \n",
       "T_EFMN31=                 1081 / MIN pixel of x-effective range for ch3         \n",
       "T_EFMX31=                 1592 / MAX pixel of x-effective range for ch3         \n",
       "T_OSMN32=                 4226 / MIN pixel of y-overscan region for ch3         \n",
       "T_OSMX32=                 4241 / MAX pixel of y-overscan region for ch3         \n",
       "T_EFMN32=                   50 / MIN pixel of y-effective range for ch3         \n",
       "T_EFMX32=                 4225 / MAX pixel of y-effective range for ch3         \n",
       "T_OSMN41=                 1609 / MIN pixel of x-overscan region for ch4         \n",
       "T_OSMX41=                 1624 / MAX pixel of x-overscan region for ch4         \n",
       "T_EFMN41=                 1625 / MIN pixel of x-effective range for ch4         \n",
       "T_EFMX41=                 2136 / MAX pixel of x-effective range for ch4         \n",
       "T_OSMN42=                 4226 / MIN pixel of y-overscan region for ch4         \n",
       "T_OSMX42=                 4241 / MAX pixel of y-overscan region for ch4         \n",
       "T_EFMN42=                   50 / MIN pixel of y-effective range for ch4         \n",
       "T_EFMX42=                 4225 / MAX pixel of y-effective range for ch4         "
      ]
     },
     "execution_count": 9,
     "metadata": {},
     "output_type": "execute_result"
    }
   ],
   "source": [
    "sources[0].header # -- contains info about value of pixel"
   ]
  },
  {
   "cell_type": "code",
   "execution_count": 10,
   "id": "ae924009-50e5-49c9-9f08-4f0a6e727953",
   "metadata": {
    "tags": []
   },
   "outputs": [],
   "source": [
    "detector_wcs = wcs.WCS(sources[0].header) # c\n",
    "# Hint: wcs has a pixel_to_world method that is helpful here\n",
    "source_skyCoords = detector_wcs.pixel_to_world(source_cat[\"x\"], source_cat[\"y\"])# complete "
   ]
  },
  {
   "cell_type": "markdown",
   "id": "d0ed50e7-342a-4082-9ee9-0b9676ffb1ee",
   "metadata": {},
   "source": [
    "Make a plot showing the RA and Dec positions of the two catalogs to make sure we are starting with something sensible. For example, first make sure that the RA and Dec values of the two catalogs overlap, which they should. (Mixing up degrees and radians happens all the time!) Does it look like there are any likely matches between the catalogs? I recommend using different markers for each catalog in your scatter plot."
   ]
  },
  {
   "cell_type": "code",
   "execution_count": 11,
   "id": "87e1d78f",
   "metadata": {},
   "outputs": [
    {
     "data": {
      "text/plain": [
       "<SkyCoord (FK5: equinox=2000.0): (ra, dec) in deg\n",
       "    [(150.00962882, 2.08628661), (150.01077289, 2.12105591),\n",
       "     (150.01187552, 2.14180264), (150.01244033, 2.12860488),\n",
       "     (150.01331644, 2.15722449), (150.01554761, 2.11354445),\n",
       "     (150.01549671, 2.13939151), (150.01556619, 2.1578849 ),\n",
       "     (150.01585936, 2.17179473), (150.01588108, 2.16124926),\n",
       "     (150.01632701, 2.1284523 ), (150.01765772, 2.10119743),\n",
       "     (150.01752958, 2.17547582), (150.01831346, 2.16892826),\n",
       "     (150.01967678, 2.15442545), (150.02119444, 2.16487087),\n",
       "     (150.02264069, 2.14589962), (150.02314703, 2.11688689),\n",
       "     (150.02304536, 2.15596833), (150.0243618 , 2.15655781),\n",
       "     (150.02441177, 2.11682414), (150.02518344, 2.17554592),\n",
       "     (150.02699378, 2.14528196), (150.03029715, 2.14524015),\n",
       "     (150.03172811, 2.15300725), (150.03225673, 2.13271557),\n",
       "     (150.03378377, 2.10199918), (150.03562075, 2.1735846 ),\n",
       "     (150.03592291, 2.12839711), (150.03671457, 2.11176794),\n",
       "     (150.03739596, 2.10088978), (150.03834579, 2.0913081 ),\n",
       "     (150.03921943, 2.14584943), (150.04012131, 2.17241546),\n",
       "     (150.0419075 , 2.11532793), (150.04443566, 2.11027946),\n",
       "     (150.04573311, 2.1404581 ), (150.04592645, 2.17381682),\n",
       "     (150.04853463, 2.14503964), (150.04958904, 2.14653171),\n",
       "     (150.05021004, 2.13420821), (150.05116598, 2.09705324),\n",
       "     (150.05135532, 2.13582511), (150.0535893 , 2.09230664),\n",
       "     (150.05541268, 2.16446647), (150.05749436, 2.17476691),\n",
       "     (150.05838736, 2.09560647), (150.05872476, 2.13016572),\n",
       "     (150.05889542, 2.0974036 ), (150.05919277, 2.12700325),\n",
       "     (150.05907402, 2.1629758 ), (150.05983977, 2.13517177),\n",
       "     (150.06060045, 2.17124498), (150.06211546, 2.11355855),\n",
       "     (150.06330281, 2.13138043), (150.06668845, 2.13780382),\n",
       "     (150.06691253, 2.15266073), (150.06679722, 2.09121847),\n",
       "     (150.06726339, 2.08423755), (150.06812302, 2.08904373),\n",
       "     (150.06904362, 2.17531592), (150.06919491, 2.12608811),\n",
       "     (150.07090095, 2.17436862), (150.07071288, 2.16794604),\n",
       "     (150.07115047, 2.16418326), (150.07520117, 2.13690643),\n",
       "     (150.07615749, 2.11072456), (150.07589339, 2.14348404),\n",
       "     (150.07575866, 2.1632774 ), (150.08049145, 2.10496975),\n",
       "     (150.08144087, 2.11869663), (150.08245242, 2.12538483),\n",
       "     (150.08304842, 2.17535116), (150.08269553, 2.10379425),\n",
       "     (150.08287904, 2.13778346), (150.08372429, 2.10945785),\n",
       "     (150.08424424, 2.136176  ), (150.08421155, 2.11135036),\n",
       "     (150.08455483, 2.176898  ), (150.08615628, 2.16868953),\n",
       "     (150.08623884, 2.16536954), (150.08673498, 2.14360329),\n",
       "     (150.08727548, 2.13995868), (150.08697193, 2.16745533),\n",
       "     (150.08777851, 2.13202581), (150.08790066, 2.08627636),\n",
       "     (150.08857257, 2.11895115), (150.08987749, 2.14674189),\n",
       "     (150.09025359, 2.08991366), (150.09125318, 2.13020725),\n",
       "     (150.09103584, 2.16503427), (150.09251453, 2.17207995),\n",
       "     (150.09318922, 2.09134649), (150.09520558, 2.12545258),\n",
       "     (150.09591235, 2.13445485), (150.09706886, 2.12670326),\n",
       "     (150.09769884, 2.1504216 ), (150.09869345, 2.14624703),\n",
       "     (150.09884443, 2.10055609), (150.10089004, 2.1299388 ),\n",
       "     (150.10261841, 2.14042193), (150.10309541, 2.09968256),\n",
       "     (150.10606218, 2.10174927), (150.10807518, 2.13783719),\n",
       "     (150.10873723, 2.1342014 ), (150.10947292, 2.16099963),\n",
       "     (150.10973944, 2.08750886), (150.10938752, 2.17677538),\n",
       "     (150.11083881, 2.08432391), (150.11153694, 2.10674783),\n",
       "     (150.11201569, 2.12047516), (150.11084069, 2.10435299),\n",
       "     (150.11209552, 2.14106477), (150.11289338, 2.08493387),\n",
       "     (150.11246408, 2.1449867 ), (150.11314873, 2.09452553),\n",
       "     (150.11307939, 2.11289556), (150.11337245, 2.13899089),\n",
       "     (150.11495617, 2.09050616), (150.11605425, 2.11003461),\n",
       "     (150.11613853, 2.16113056), (150.11719256, 2.09064843),\n",
       "     (150.11743698, 2.16082909), (150.11771674, 2.09247551),\n",
       "     (150.11741163, 2.15866351), (150.11931713, 2.10962941),\n",
       "     (150.12058251, 2.14809568), (150.12058297, 2.16029346),\n",
       "     (150.12163067, 2.12737474), (150.12154025, 2.13231473),\n",
       "     (150.12226825, 2.12805497), (150.12480548, 2.10335667),\n",
       "     (150.12474082, 2.12443185), (150.12551111, 2.09072161),\n",
       "     (150.12675242, 2.10686547), (150.12792464, 2.10805399),\n",
       "     (150.1284729 , 2.0986909 ), (150.13093824, 2.16154887),\n",
       "     (150.13129594, 2.09111336), (150.13231564, 2.12404552),\n",
       "     (150.13292366, 2.17153782), (150.13460869, 2.17686332),\n",
       "     (150.13505263, 2.10584067), (150.13566758, 2.14795259),\n",
       "     (150.13860054, 2.10497213), (150.14069745, 2.1142346 ),\n",
       "     (150.14180707, 2.13689254), (150.14276072, 2.15146956),\n",
       "     (150.14297863, 2.17555766), (150.14359516, 2.12001951),\n",
       "     (150.14438646, 2.12345766), (150.14473844, 2.11249965),\n",
       "     (150.14536218, 2.14160622), (150.1458329 , 2.13075155),\n",
       "     (150.14734172, 2.16996778), (150.14942656, 2.14312807),\n",
       "     (150.14993157, 2.10506388), (150.15078528, 2.1218348 ),\n",
       "     (150.15207826, 2.08434133), (150.15256233, 2.15337817),\n",
       "     (150.15312882, 2.16701472), (150.15340879, 2.11362047),\n",
       "     (150.15395872, 2.10007942), (150.15523323, 2.17685507),\n",
       "     (150.15642954, 2.11352227), (150.1583675 , 2.13953131),\n",
       "     (150.158512  , 2.10078271), (150.16027787, 2.11949552),\n",
       "     (150.16025421, 2.1519738 ), (150.1604126 , 2.09897138),\n",
       "     (150.16053376, 2.16055003), (150.16160333, 2.13448304),\n",
       "     (150.16286432, 2.1252174 ), (150.1645159 , 2.14204754),\n",
       "     (150.16423623, 2.17348651), (150.16504138, 2.1693277 ),\n",
       "     (150.16548057, 2.11550005), (150.16793417, 2.12763518),\n",
       "     (150.16797511, 2.16566064), (150.16890425, 2.13405388),\n",
       "     (150.16885226, 2.13984016), (150.16894383, 2.17153182),\n",
       "     (150.16908801, 2.09457034), (150.17009955, 2.1531238 ),\n",
       "     (150.17052619, 2.14527801), (150.1706847 , 2.10952496),\n",
       "     (150.17189188, 2.09398634), (150.17369273, 2.08492527),\n",
       "     (150.17374988, 2.17065639), (150.17501925, 2.17250168),\n",
       "     (150.1777186 , 2.13657346), (150.17811424, 2.16050667),\n",
       "     (150.17842243, 2.14036323), (150.17956133, 2.14786746),\n",
       "     (150.17981179, 2.10626669), (150.17994226, 2.12203018),\n",
       "     (150.1841508 , 2.15445645), (150.18479724, 2.09638655),\n",
       "     (150.18550954, 2.1518303 ), (150.1861278 , 2.12149569),\n",
       "     (150.18761754, 2.08676391), (150.1875068 , 2.09829798),\n",
       "     (150.1882837 , 2.09370534), (150.18992081, 2.1050278 ),\n",
       "     (150.18960008, 2.14511485), (150.18979465, 2.16722251),\n",
       "     (150.19074047, 2.16981291), (150.19406575, 2.08856145),\n",
       "     (150.19593839, 2.13529781), (150.19646177, 2.09535098),\n",
       "     (150.19720312, 2.10110683), (150.19757071, 2.15646049),\n",
       "     (150.19783199, 2.11017275), (150.19986703, 2.14330425),\n",
       "     (150.19986909, 2.1034562 ), (150.20192373, 2.15276294)]>"
      ]
     },
     "execution_count": 11,
     "metadata": {},
     "output_type": "execute_result"
    }
   ],
   "source": [
    "source_skyCoords"
   ]
  },
  {
   "cell_type": "code",
   "execution_count": 12,
   "id": "f05b4889",
   "metadata": {},
   "outputs": [],
   "source": [
    "ra_wcs = np.array(source_skyCoords.ra)\n",
    "dec_wcs = np.array(source_skyCoords.dec)"
   ]
  },
  {
   "cell_type": "code",
   "execution_count": 13,
   "id": "4a3c32e7-f4df-4573-8546-e3c51384ea9a",
   "metadata": {},
   "outputs": [
    {
     "data": {
      "text/plain": [
       "<matplotlib.legend.Legend at 0x7f3138686df0>"
      ]
     },
     "execution_count": 13,
     "metadata": {},
     "output_type": "execute_result"
    },
    {
     "data": {
      "image/png": "[encoded data removed]",
      "text/plain": [
       "<Figure size 640x480 with 1 Axes>"
      ]
     },
     "metadata": {},
     "output_type": "display_data"
    }
   ],
   "source": [
    "plt.scatter(ra_wcs, dec_wcs, alpha = 0.3)\n",
    "plt.scatter(gaia_skyCoord.ra, gaia_skyCoord.dec, marker = \"*\", alpha = 0.5, label = \"gaia\")\n",
    "plt.xlim(ra_wcs.min()-0.1, ra_wcs.max()+0.1)\n",
    "plt.ylim(dec_wcs.min()-0.1, dec_wcs.max()+0.1)\n",
    "plt.legend()"
   ]
  },
  {
   "cell_type": "markdown",
   "id": "327b2fa3-96f2-4223-9a17-aa1e495433cc",
   "metadata": {},
   "source": [
    "Given the initial estimate of RA and Dec, match the Gaia catalog sources to the new source catalog:"
   ]
  },
  {
   "cell_type": "code",
   "execution_count": 14,
   "id": "2d63d67e",
   "metadata": {},
   "outputs": [
    {
     "data": {
      "text/plain": [
       "<SkyCoord (FK5: equinox=2000.0): (ra, dec) in deg\n",
       "    [(150.00962882, 2.08628661), (150.01077289, 2.12105591),\n",
       "     (150.01187552, 2.14180264), (150.01244033, 2.12860488),\n",
       "     (150.01331644, 2.15722449), (150.01554761, 2.11354445),\n",
       "     (150.01549671, 2.13939151), (150.01556619, 2.1578849 ),\n",
       "     (150.01585936, 2.17179473), (150.01588108, 2.16124926),\n",
       "     (150.01632701, 2.1284523 ), (150.01765772, 2.10119743),\n",
       "     (150.01752958, 2.17547582), (150.01831346, 2.16892826),\n",
       "     (150.01967678, 2.15442545), (150.02119444, 2.16487087),\n",
       "     (150.02264069, 2.14589962), (150.02314703, 2.11688689),\n",
       "     (150.02304536, 2.15596833), (150.0243618 , 2.15655781),\n",
       "     (150.02441177, 2.11682414), (150.02518344, 2.17554592),\n",
       "     (150.02699378, 2.14528196), (150.03029715, 2.14524015),\n",
       "     (150.03172811, 2.15300725), (150.03225673, 2.13271557),\n",
       "     (150.03378377, 2.10199918), (150.03562075, 2.1735846 ),\n",
       "     (150.03592291, 2.12839711), (150.03671457, 2.11176794),\n",
       "     (150.03739596, 2.10088978), (150.03834579, 2.0913081 ),\n",
       "     (150.03921943, 2.14584943), (150.04012131, 2.17241546),\n",
       "     (150.0419075 , 2.11532793), (150.04443566, 2.11027946),\n",
       "     (150.04573311, 2.1404581 ), (150.04592645, 2.17381682),\n",
       "     (150.04853463, 2.14503964), (150.04958904, 2.14653171),\n",
       "     (150.05021004, 2.13420821), (150.05116598, 2.09705324),\n",
       "     (150.05135532, 2.13582511), (150.0535893 , 2.09230664),\n",
       "     (150.05541268, 2.16446647), (150.05749436, 2.17476691),\n",
       "     (150.05838736, 2.09560647), (150.05872476, 2.13016572),\n",
       "     (150.05889542, 2.0974036 ), (150.05919277, 2.12700325),\n",
       "     (150.05907402, 2.1629758 ), (150.05983977, 2.13517177),\n",
       "     (150.06060045, 2.17124498), (150.06211546, 2.11355855),\n",
       "     (150.06330281, 2.13138043), (150.06668845, 2.13780382),\n",
       "     (150.06691253, 2.15266073), (150.06679722, 2.09121847),\n",
       "     (150.06726339, 2.08423755), (150.06812302, 2.08904373),\n",
       "     (150.06904362, 2.17531592), (150.06919491, 2.12608811),\n",
       "     (150.07090095, 2.17436862), (150.07071288, 2.16794604),\n",
       "     (150.07115047, 2.16418326), (150.07520117, 2.13690643),\n",
       "     (150.07615749, 2.11072456), (150.07589339, 2.14348404),\n",
       "     (150.07575866, 2.1632774 ), (150.08049145, 2.10496975),\n",
       "     (150.08144087, 2.11869663), (150.08245242, 2.12538483),\n",
       "     (150.08304842, 2.17535116), (150.08269553, 2.10379425),\n",
       "     (150.08287904, 2.13778346), (150.08372429, 2.10945785),\n",
       "     (150.08424424, 2.136176  ), (150.08421155, 2.11135036),\n",
       "     (150.08455483, 2.176898  ), (150.08615628, 2.16868953),\n",
       "     (150.08623884, 2.16536954), (150.08673498, 2.14360329),\n",
       "     (150.08727548, 2.13995868), (150.08697193, 2.16745533),\n",
       "     (150.08777851, 2.13202581), (150.08790066, 2.08627636),\n",
       "     (150.08857257, 2.11895115), (150.08987749, 2.14674189),\n",
       "     (150.09025359, 2.08991366), (150.09125318, 2.13020725),\n",
       "     (150.09103584, 2.16503427), (150.09251453, 2.17207995),\n",
       "     (150.09318922, 2.09134649), (150.09520558, 2.12545258),\n",
       "     (150.09591235, 2.13445485), (150.09706886, 2.12670326),\n",
       "     (150.09769884, 2.1504216 ), (150.09869345, 2.14624703),\n",
       "     (150.09884443, 2.10055609), (150.10089004, 2.1299388 ),\n",
       "     (150.10261841, 2.14042193), (150.10309541, 2.09968256),\n",
       "     (150.10606218, 2.10174927), (150.10807518, 2.13783719),\n",
       "     (150.10873723, 2.1342014 ), (150.10947292, 2.16099963),\n",
       "     (150.10973944, 2.08750886), (150.10938752, 2.17677538),\n",
       "     (150.11083881, 2.08432391), (150.11153694, 2.10674783),\n",
       "     (150.11201569, 2.12047516), (150.11084069, 2.10435299),\n",
       "     (150.11209552, 2.14106477), (150.11289338, 2.08493387),\n",
       "     (150.11246408, 2.1449867 ), (150.11314873, 2.09452553),\n",
       "     (150.11307939, 2.11289556), (150.11337245, 2.13899089),\n",
       "     (150.11495617, 2.09050616), (150.11605425, 2.11003461),\n",
       "     (150.11613853, 2.16113056), (150.11719256, 2.09064843),\n",
       "     (150.11743698, 2.16082909), (150.11771674, 2.09247551),\n",
       "     (150.11741163, 2.15866351), (150.11931713, 2.10962941),\n",
       "     (150.12058251, 2.14809568), (150.12058297, 2.16029346),\n",
       "     (150.12163067, 2.12737474), (150.12154025, 2.13231473),\n",
       "     (150.12226825, 2.12805497), (150.12480548, 2.10335667),\n",
       "     (150.12474082, 2.12443185), (150.12551111, 2.09072161),\n",
       "     (150.12675242, 2.10686547), (150.12792464, 2.10805399),\n",
       "     (150.1284729 , 2.0986909 ), (150.13093824, 2.16154887),\n",
       "     (150.13129594, 2.09111336), (150.13231564, 2.12404552),\n",
       "     (150.13292366, 2.17153782), (150.13460869, 2.17686332),\n",
       "     (150.13505263, 2.10584067), (150.13566758, 2.14795259),\n",
       "     (150.13860054, 2.10497213), (150.14069745, 2.1142346 ),\n",
       "     (150.14180707, 2.13689254), (150.14276072, 2.15146956),\n",
       "     (150.14297863, 2.17555766), (150.14359516, 2.12001951),\n",
       "     (150.14438646, 2.12345766), (150.14473844, 2.11249965),\n",
       "     (150.14536218, 2.14160622), (150.1458329 , 2.13075155),\n",
       "     (150.14734172, 2.16996778), (150.14942656, 2.14312807),\n",
       "     (150.14993157, 2.10506388), (150.15078528, 2.1218348 ),\n",
       "     (150.15207826, 2.08434133), (150.15256233, 2.15337817),\n",
       "     (150.15312882, 2.16701472), (150.15340879, 2.11362047),\n",
       "     (150.15395872, 2.10007942), (150.15523323, 2.17685507),\n",
       "     (150.15642954, 2.11352227), (150.1583675 , 2.13953131),\n",
       "     (150.158512  , 2.10078271), (150.16027787, 2.11949552),\n",
       "     (150.16025421, 2.1519738 ), (150.1604126 , 2.09897138),\n",
       "     (150.16053376, 2.16055003), (150.16160333, 2.13448304),\n",
       "     (150.16286432, 2.1252174 ), (150.1645159 , 2.14204754),\n",
       "     (150.16423623, 2.17348651), (150.16504138, 2.1693277 ),\n",
       "     (150.16548057, 2.11550005), (150.16793417, 2.12763518),\n",
       "     (150.16797511, 2.16566064), (150.16890425, 2.13405388),\n",
       "     (150.16885226, 2.13984016), (150.16894383, 2.17153182),\n",
       "     (150.16908801, 2.09457034), (150.17009955, 2.1531238 ),\n",
       "     (150.17052619, 2.14527801), (150.1706847 , 2.10952496),\n",
       "     (150.17189188, 2.09398634), (150.17369273, 2.08492527),\n",
       "     (150.17374988, 2.17065639), (150.17501925, 2.17250168),\n",
       "     (150.1777186 , 2.13657346), (150.17811424, 2.16050667),\n",
       "     (150.17842243, 2.14036323), (150.17956133, 2.14786746),\n",
       "     (150.17981179, 2.10626669), (150.17994226, 2.12203018),\n",
       "     (150.1841508 , 2.15445645), (150.18479724, 2.09638655),\n",
       "     (150.18550954, 2.1518303 ), (150.1861278 , 2.12149569),\n",
       "     (150.18761754, 2.08676391), (150.1875068 , 2.09829798),\n",
       "     (150.1882837 , 2.09370534), (150.18992081, 2.1050278 ),\n",
       "     (150.18960008, 2.14511485), (150.18979465, 2.16722251),\n",
       "     (150.19074047, 2.16981291), (150.19406575, 2.08856145),\n",
       "     (150.19593839, 2.13529781), (150.19646177, 2.09535098),\n",
       "     (150.19720312, 2.10110683), (150.19757071, 2.15646049),\n",
       "     (150.19783199, 2.11017275), (150.19986703, 2.14330425),\n",
       "     (150.19986909, 2.1034562 ), (150.20192373, 2.15276294)]>"
      ]
     },
     "execution_count": 14,
     "metadata": {},
     "output_type": "execute_result"
    }
   ],
   "source": [
    "source_skyCoords"
   ]
  },
  {
   "cell_type": "code",
   "execution_count": 15,
   "id": "f86a0058",
   "metadata": {},
   "outputs": [
    {
     "data": {
      "text/plain": [
       "<SkyCoord (ICRS): (ra, dec) in deg\n",
       "    [(151.08625144, 2.26910322), (151.1138923 , 2.2753019 ),\n",
       "     (151.07714322, 2.27941641), ..., (149.60790663, 2.25564513),\n",
       "     (149.58325668, 2.26242986), (149.60453964, 2.26563869)]>"
      ]
     },
     "execution_count": 15,
     "metadata": {},
     "output_type": "execute_result"
    }
   ],
   "source": [
    "gaia_skyCoord"
   ]
  },
  {
   "cell_type": "code",
   "execution_count": 18,
   "id": "0908937d",
   "metadata": {},
   "outputs": [
    {
     "data": {
      "text/plain": [
       "'5.1'"
      ]
     },
     "execution_count": 18,
     "metadata": {},
     "output_type": "execute_result"
    }
   ],
   "source": [
    "astropy.__version__"
   ]
  },
  {
   "cell_type": "code",
   "execution_count": 16,
   "id": "f2eb5411",
   "metadata": {},
   "outputs": [
    {
     "data": {
      "text/plain": [
       "'1.24.3'"
      ]
     },
     "execution_count": 16,
     "metadata": {},
     "output_type": "execute_result"
    }
   ],
   "source": [
    "np.__version__"
   ]
  },
  {
   "cell_type": "code",
   "execution_count": 17,
   "id": "983cd419",
   "metadata": {},
   "outputs": [
    {
     "ename": "TypeError",
     "evalue": "concatenate() got an unexpected keyword argument 'dtype'",
     "output_type": "error",
     "traceback": [
      "\u001b[0;31m---------------------------------------------------------------------------\u001b[0m",
      "\u001b[0;31mTypeError\u001b[0m                                 Traceback (most recent call last)",
      "Cell \u001b[0;32mIn[17], line 4\u001b[0m\n\u001b[1;32m      1\u001b[0m \u001b[38;5;66;03m# Complete: \u001b[39;00m\n\u001b[1;32m      2\u001b[0m \u001b[38;5;66;03m# (Hint: astropy SkyCoord has a \"match_to_catalog_sky\" function that works well for this.)\u001b[39;00m\n\u001b[0;32m----> 4\u001b[0m \u001b[43msource_skyCoords\u001b[49m\u001b[38;5;241;43m.\u001b[39;49m\u001b[43mmatch_to_catalog_sky\u001b[49m\u001b[43m(\u001b[49m\u001b[43mgaia_skyCoord\u001b[49m\u001b[43m)\u001b[49m\n",
      "File \u001b[0;32m~/miniconda3/envs/DSFP/lib/python3.8/site-packages/astropy/coordinates/sky_coordinate.py:1386\u001b[0m, in \u001b[0;36mSkyCoord.match_to_catalog_sky\u001b[0;34m(self, catalogcoord, nthneighbor)\u001b[0m\n\u001b[1;32m   1381\u001b[0m \u001b[38;5;28;01mif\u001b[39;00m \u001b[38;5;129;01mnot\u001b[39;00m (\u001b[38;5;28misinstance\u001b[39m(catalogcoord, (SkyCoord, BaseCoordinateFrame))\n\u001b[1;32m   1382\u001b[0m         \u001b[38;5;129;01mand\u001b[39;00m catalogcoord\u001b[38;5;241m.\u001b[39mhas_data):\n\u001b[1;32m   1383\u001b[0m     \u001b[38;5;28;01mraise\u001b[39;00m \u001b[38;5;167;01mTypeError\u001b[39;00m(\u001b[38;5;124m'\u001b[39m\u001b[38;5;124mCan only get separation to another SkyCoord or a \u001b[39m\u001b[38;5;124m'\u001b[39m\n\u001b[1;32m   1384\u001b[0m                     \u001b[38;5;124m'\u001b[39m\u001b[38;5;124mcoordinate frame with data\u001b[39m\u001b[38;5;124m'\u001b[39m)\n\u001b[0;32m-> 1386\u001b[0m res \u001b[38;5;241m=\u001b[39m \u001b[43mmatch_coordinates_sky\u001b[49m\u001b[43m(\u001b[49m\u001b[38;5;28;43mself\u001b[39;49m\u001b[43m,\u001b[49m\u001b[43m \u001b[49m\u001b[43mcatalogcoord\u001b[49m\u001b[43m,\u001b[49m\n\u001b[1;32m   1387\u001b[0m \u001b[43m                            \u001b[49m\u001b[43mnthneighbor\u001b[49m\u001b[38;5;241;43m=\u001b[39;49m\u001b[43mnthneighbor\u001b[49m\u001b[43m,\u001b[49m\n\u001b[1;32m   1388\u001b[0m \u001b[43m                            \u001b[49m\u001b[43mstorekdtree\u001b[49m\u001b[38;5;241;43m=\u001b[39;49m\u001b[38;5;124;43m'\u001b[39;49m\u001b[38;5;124;43m_kdtree_sky\u001b[39;49m\u001b[38;5;124;43m'\u001b[39;49m\u001b[43m)\u001b[49m\n\u001b[1;32m   1389\u001b[0m \u001b[38;5;28;01mreturn\u001b[39;00m res\n",
      "File \u001b[0;32m~/miniconda3/envs/DSFP/lib/python3.8/site-packages/astropy/coordinates/matching.py:164\u001b[0m, in \u001b[0;36mmatch_coordinates_sky\u001b[0;34m(matchcoord, catalogcoord, nthneighbor, storekdtree)\u001b[0m\n\u001b[1;32m    159\u001b[0m \u001b[38;5;66;03m# Check for a stored KD-tree on the passed-in coordinate. Normally it will\u001b[39;00m\n\u001b[1;32m    160\u001b[0m \u001b[38;5;66;03m# have a distinct name from the \"3D\" one, so it's safe to use even though\u001b[39;00m\n\u001b[1;32m    161\u001b[0m \u001b[38;5;66;03m# it's based on UnitSphericalRepresentation.\u001b[39;00m\n\u001b[1;32m    162\u001b[0m storekdtree \u001b[38;5;241m=\u001b[39m catalogcoord\u001b[38;5;241m.\u001b[39mcache\u001b[38;5;241m.\u001b[39mget(storekdtree, storekdtree)\n\u001b[0;32m--> 164\u001b[0m idx, sep2d, sep3d \u001b[38;5;241m=\u001b[39m \u001b[43mmatch_coordinates_3d\u001b[49m\u001b[43m(\u001b[49m\u001b[43mnewmatch_u\u001b[49m\u001b[43m,\u001b[49m\u001b[43m \u001b[49m\u001b[43mnewcat_u\u001b[49m\u001b[43m,\u001b[49m\u001b[43m \u001b[49m\u001b[43mnthneighbor\u001b[49m\u001b[43m,\u001b[49m\u001b[43m \u001b[49m\u001b[43mstorekdtree\u001b[49m\u001b[43m)\u001b[49m\n\u001b[1;32m    165\u001b[0m \u001b[38;5;66;03m# sep3d is *wrong* above, because the distance information was removed,\u001b[39;00m\n\u001b[1;32m    166\u001b[0m \u001b[38;5;66;03m# unless one of the catalogs doesn't have a real distance\u001b[39;00m\n\u001b[1;32m    167\u001b[0m \u001b[38;5;28;01mif\u001b[39;00m \u001b[38;5;129;01mnot\u001b[39;00m (\u001b[38;5;28misinstance\u001b[39m(catalogcoord\u001b[38;5;241m.\u001b[39mdata, UnitSphericalRepresentation) \u001b[38;5;129;01mor\u001b[39;00m\n\u001b[1;32m    168\u001b[0m         \u001b[38;5;28misinstance\u001b[39m(newmatch\u001b[38;5;241m.\u001b[39mdata, UnitSphericalRepresentation)):\n",
      "File \u001b[0;32m~/miniconda3/envs/DSFP/lib/python3.8/site-packages/astropy/coordinates/matching.py:68\u001b[0m, in \u001b[0;36mmatch_coordinates_3d\u001b[0;34m(matchcoord, catalogcoord, nthneighbor, storekdtree)\u001b[0m\n\u001b[1;32m     64\u001b[0m \u001b[38;5;28;01mif\u001b[39;00m catalogcoord\u001b[38;5;241m.\u001b[39misscalar \u001b[38;5;129;01mor\u001b[39;00m \u001b[38;5;28mlen\u001b[39m(catalogcoord) \u001b[38;5;241m<\u001b[39m \u001b[38;5;241m1\u001b[39m:\n\u001b[1;32m     65\u001b[0m     \u001b[38;5;28;01mraise\u001b[39;00m \u001b[38;5;167;01mValueError\u001b[39;00m(\u001b[38;5;124m'\u001b[39m\u001b[38;5;124mThe catalog for coordinate matching cannot be a \u001b[39m\u001b[38;5;124m'\u001b[39m\n\u001b[1;32m     66\u001b[0m                      \u001b[38;5;124m'\u001b[39m\u001b[38;5;124mscalar or length-0.\u001b[39m\u001b[38;5;124m'\u001b[39m)\n\u001b[0;32m---> 68\u001b[0m kdt \u001b[38;5;241m=\u001b[39m \u001b[43m_get_cartesian_kdtree\u001b[49m\u001b[43m(\u001b[49m\u001b[43mcatalogcoord\u001b[49m\u001b[43m,\u001b[49m\u001b[43m \u001b[49m\u001b[43mstorekdtree\u001b[49m\u001b[43m)\u001b[49m\n\u001b[1;32m     70\u001b[0m \u001b[38;5;66;03m# make sure coordinate systems match\u001b[39;00m\n\u001b[1;32m     71\u001b[0m \u001b[38;5;28;01mif\u001b[39;00m \u001b[38;5;28misinstance\u001b[39m(matchcoord, SkyCoord):\n",
      "File \u001b[0;32m~/miniconda3/envs/DSFP/lib/python3.8/site-packages/astropy/coordinates/matching.py:466\u001b[0m, in \u001b[0;36m_get_cartesian_kdtree\u001b[0;34m(coord, attrname_or_kdt, forceunit)\u001b[0m\n\u001b[1;32m    463\u001b[0m \u001b[38;5;28;01mif\u001b[39;00m kdt \u001b[38;5;129;01mis\u001b[39;00m \u001b[38;5;28;01mNone\u001b[39;00m:\n\u001b[1;32m    464\u001b[0m     \u001b[38;5;66;03m# need to build the cartesian KD-tree for the catalog\u001b[39;00m\n\u001b[1;32m    465\u001b[0m     \u001b[38;5;28;01mif\u001b[39;00m forceunit \u001b[38;5;129;01mis\u001b[39;00m \u001b[38;5;28;01mNone\u001b[39;00m:\n\u001b[0;32m--> 466\u001b[0m         cartxyz \u001b[38;5;241m=\u001b[39m \u001b[43mcoord\u001b[49m\u001b[38;5;241;43m.\u001b[39;49m\u001b[43mcartesian\u001b[49m\u001b[38;5;241;43m.\u001b[39;49m\u001b[43mxyz\u001b[49m\n\u001b[1;32m    467\u001b[0m     \u001b[38;5;28;01melse\u001b[39;00m:\n\u001b[1;32m    468\u001b[0m         cartxyz \u001b[38;5;241m=\u001b[39m coord\u001b[38;5;241m.\u001b[39mcartesian\u001b[38;5;241m.\u001b[39mxyz\u001b[38;5;241m.\u001b[39mto(forceunit)\n",
      "File \u001b[0;32m~/miniconda3/envs/DSFP/lib/python3.8/site-packages/astropy/coordinates/representation.py:1351\u001b[0m, in \u001b[0;36mCartesianRepresentation.get_xyz\u001b[0;34m(self, xyz_axis)\u001b[0m\n\u001b[1;32m   1346\u001b[0m         \u001b[38;5;28;01mreturn\u001b[39;00m np\u001b[38;5;241m.\u001b[39mmoveaxis(\u001b[38;5;28mself\u001b[39m\u001b[38;5;241m.\u001b[39m_xyz, \u001b[38;5;28mself\u001b[39m\u001b[38;5;241m.\u001b[39m_xyz_axis, xyz_axis)\n\u001b[1;32m   1348\u001b[0m \u001b[38;5;66;03m# Create combined array.  TO DO: keep it in _xyz for repeated use?\u001b[39;00m\n\u001b[1;32m   1349\u001b[0m \u001b[38;5;66;03m# But then in-place changes have to cancel it. Likely best to\u001b[39;00m\n\u001b[1;32m   1350\u001b[0m \u001b[38;5;66;03m# also update components.\u001b[39;00m\n\u001b[0;32m-> 1351\u001b[0m \u001b[38;5;28;01mreturn\u001b[39;00m \u001b[43mnp\u001b[49m\u001b[38;5;241;43m.\u001b[39;49m\u001b[43mstack\u001b[49m\u001b[43m(\u001b[49m\u001b[43m[\u001b[49m\u001b[38;5;28;43mself\u001b[39;49m\u001b[38;5;241;43m.\u001b[39;49m\u001b[43m_x\u001b[49m\u001b[43m,\u001b[49m\u001b[43m \u001b[49m\u001b[38;5;28;43mself\u001b[39;49m\u001b[38;5;241;43m.\u001b[39;49m\u001b[43m_y\u001b[49m\u001b[43m,\u001b[49m\u001b[43m \u001b[49m\u001b[38;5;28;43mself\u001b[39;49m\u001b[38;5;241;43m.\u001b[39;49m\u001b[43m_z\u001b[49m\u001b[43m]\u001b[49m\u001b[43m,\u001b[49m\u001b[43m \u001b[49m\u001b[43maxis\u001b[49m\u001b[38;5;241;43m=\u001b[39;49m\u001b[43mxyz_axis\u001b[49m\u001b[43m)\u001b[49m\n",
      "File \u001b[0;32m<__array_function__ internals>:200\u001b[0m, in \u001b[0;36mstack\u001b[0;34m(*args, **kwargs)\u001b[0m\n",
      "File \u001b[0;32m~/miniconda3/envs/DSFP/lib/python3.8/site-packages/astropy/units/quantity.py:1683\u001b[0m, in \u001b[0;36mQuantity.__array_function__\u001b[0;34m(self, function, types, args, kwargs)\u001b[0m\n\u001b[1;32m   1670\u001b[0m \u001b[38;5;66;03m# A function should be in one of the following sets or dicts:\u001b[39;00m\n\u001b[1;32m   1671\u001b[0m \u001b[38;5;66;03m# 1. SUBCLASS_SAFE_FUNCTIONS (set), if the numpy implementation\u001b[39;00m\n\u001b[1;32m   1672\u001b[0m \u001b[38;5;66;03m#    supports Quantity; we pass on to ndarray.__array_function__.\u001b[39;00m\n\u001b[0;32m   (...)\u001b[0m\n\u001b[1;32m   1680\u001b[0m \u001b[38;5;66;03m# function is in none of the above, we simply call the numpy\u001b[39;00m\n\u001b[1;32m   1681\u001b[0m \u001b[38;5;66;03m# implementation.\u001b[39;00m\n\u001b[1;32m   1682\u001b[0m \u001b[38;5;28;01mif\u001b[39;00m function \u001b[38;5;129;01min\u001b[39;00m SUBCLASS_SAFE_FUNCTIONS:\n\u001b[0;32m-> 1683\u001b[0m     \u001b[38;5;28;01mreturn\u001b[39;00m \u001b[38;5;28;43msuper\u001b[39;49m\u001b[43m(\u001b[49m\u001b[43m)\u001b[49m\u001b[38;5;241;43m.\u001b[39;49m\u001b[43m__array_function__\u001b[49m\u001b[43m(\u001b[49m\u001b[43mfunction\u001b[49m\u001b[43m,\u001b[49m\u001b[43m \u001b[49m\u001b[43mtypes\u001b[49m\u001b[43m,\u001b[49m\u001b[43m \u001b[49m\u001b[43margs\u001b[49m\u001b[43m,\u001b[49m\u001b[43m \u001b[49m\u001b[43mkwargs\u001b[49m\u001b[43m)\u001b[49m\n\u001b[1;32m   1685\u001b[0m \u001b[38;5;28;01melif\u001b[39;00m function \u001b[38;5;129;01min\u001b[39;00m FUNCTION_HELPERS:\n\u001b[1;32m   1686\u001b[0m     function_helper \u001b[38;5;241m=\u001b[39m FUNCTION_HELPERS[function]\n",
      "File \u001b[0;32m~/miniconda3/envs/DSFP/lib/python3.8/site-packages/numpy/core/shape_base.py:471\u001b[0m, in \u001b[0;36mstack\u001b[0;34m(arrays, axis, out, dtype, casting)\u001b[0m\n\u001b[1;32m    469\u001b[0m sl \u001b[38;5;241m=\u001b[39m (\u001b[38;5;28mslice\u001b[39m(\u001b[38;5;28;01mNone\u001b[39;00m),) \u001b[38;5;241m*\u001b[39m axis \u001b[38;5;241m+\u001b[39m (_nx\u001b[38;5;241m.\u001b[39mnewaxis,)\n\u001b[1;32m    470\u001b[0m expanded_arrays \u001b[38;5;241m=\u001b[39m [arr[sl] \u001b[38;5;28;01mfor\u001b[39;00m arr \u001b[38;5;129;01min\u001b[39;00m arrays]\n\u001b[0;32m--> 471\u001b[0m \u001b[38;5;28;01mreturn\u001b[39;00m \u001b[43m_nx\u001b[49m\u001b[38;5;241;43m.\u001b[39;49m\u001b[43mconcatenate\u001b[49m\u001b[43m(\u001b[49m\u001b[43mexpanded_arrays\u001b[49m\u001b[43m,\u001b[49m\u001b[43m \u001b[49m\u001b[43maxis\u001b[49m\u001b[38;5;241;43m=\u001b[39;49m\u001b[43maxis\u001b[49m\u001b[43m,\u001b[49m\u001b[43m \u001b[49m\u001b[43mout\u001b[49m\u001b[38;5;241;43m=\u001b[39;49m\u001b[43mout\u001b[49m\u001b[43m,\u001b[49m\n\u001b[1;32m    472\u001b[0m \u001b[43m                       \u001b[49m\u001b[43mdtype\u001b[49m\u001b[38;5;241;43m=\u001b[39;49m\u001b[43mdtype\u001b[49m\u001b[43m,\u001b[49m\u001b[43m \u001b[49m\u001b[43mcasting\u001b[49m\u001b[38;5;241;43m=\u001b[39;49m\u001b[43mcasting\u001b[49m\u001b[43m)\u001b[49m\n",
      "File \u001b[0;32m<__array_function__ internals>:200\u001b[0m, in \u001b[0;36mconcatenate\u001b[0;34m(*args, **kwargs)\u001b[0m\n",
      "File \u001b[0;32m~/miniconda3/envs/DSFP/lib/python3.8/site-packages/astropy/units/quantity.py:1688\u001b[0m, in \u001b[0;36mQuantity.__array_function__\u001b[0;34m(self, function, types, args, kwargs)\u001b[0m\n\u001b[1;32m   1686\u001b[0m function_helper \u001b[38;5;241m=\u001b[39m FUNCTION_HELPERS[function]\n\u001b[1;32m   1687\u001b[0m \u001b[38;5;28;01mtry\u001b[39;00m:\n\u001b[0;32m-> 1688\u001b[0m     args, kwargs, unit, out \u001b[38;5;241m=\u001b[39m \u001b[43mfunction_helper\u001b[49m\u001b[43m(\u001b[49m\u001b[38;5;241;43m*\u001b[39;49m\u001b[43margs\u001b[49m\u001b[43m,\u001b[49m\u001b[43m \u001b[49m\u001b[38;5;241;43m*\u001b[39;49m\u001b[38;5;241;43m*\u001b[39;49m\u001b[43mkwargs\u001b[49m\u001b[43m)\u001b[49m\n\u001b[1;32m   1689\u001b[0m \u001b[38;5;28;01mexcept\u001b[39;00m \u001b[38;5;167;01mNotImplementedError\u001b[39;00m:\n\u001b[1;32m   1690\u001b[0m     \u001b[38;5;28;01mreturn\u001b[39;00m \u001b[38;5;28mself\u001b[39m\u001b[38;5;241m.\u001b[39m_not_implemented_or_raise(function, types)\n",
      "\u001b[0;31mTypeError\u001b[0m: concatenate() got an unexpected keyword argument 'dtype'"
     ]
    }
   ],
   "source": [
    "# Complete: \n",
    "# (Hint: astropy SkyCoord has a \"match_to_catalog_sky\" function that works well for this.)\n",
    "\n",
    "source_skyCoords.match_to_catalog_sky(gaia_skyCoord)"
   ]
  },
  {
   "cell_type": "markdown",
   "id": "646304cc-26a9-48df-95de-97d292b7a1e7",
   "metadata": {},
   "source": [
    "Not every source in the catalog will have a match in the Gaia catalog. Make a histogram of the match separations and choose a sensible limit for the distance between matches."
   ]
  },
  {
   "cell_type": "code",
   "execution_count": 157,
   "id": "e6cc71b8-0481-401e-a3ba-4cb39bf33d8e",
   "metadata": {
    "tags": []
   },
   "outputs": [],
   "source": [
    "# Complete"
   ]
  },
  {
   "cell_type": "markdown",
   "id": "480d0d16",
   "metadata": {},
   "source": [
    "Make a histogram of just the good matches to see what the separations look like."
   ]
  },
  {
   "cell_type": "code",
   "execution_count": null,
   "id": "ceb41737",
   "metadata": {},
   "outputs": [],
   "source": [
    "# Complete"
   ]
  },
  {
   "cell_type": "markdown",
   "id": "327a666e-942a-4e22-8ed9-2993428c19bf",
   "metadata": {},
   "source": [
    "You may also want to remove any sources that have ambiguous pairings (within the limit you selected above) -- i.e. one gaia star matches multiple science sources or vice-versa"
   ]
  },
  {
   "cell_type": "markdown",
   "id": "74ec02de-c7dc-41a6-8812-5a2ae53149d1",
   "metadata": {},
   "source": [
    "#### 2. Fitting a WCS\n",
    "\n",
    "Now that we have found the stars that are in both our science image and our reference catalog, let's try to fit an improved WCS.\n",
    "\n",
    "To do a simple version of this, use `astropy.wcs.utils.fit_wcs_from_points` to fit a WCS function. Use the optional argument `sip_degree` to choose what order of polynomial to use for the function. (Choosing zero should give something pretty close to the WCS we got from the fits file header.) The pixel values should come from our source catalog, and the sky coordinates should come from the Gaia catalog."
   ]
  },
  {
   "cell_type": "code",
   "execution_count": null,
   "id": "1cddcde4-de00-405e-9946-656858432234",
   "metadata": {},
   "outputs": [],
   "source": [
    "new_wcs = # Complete"
   ]
  },
  {
   "cell_type": "markdown",
   "id": "14f8e01d",
   "metadata": {},
   "source": [
    "Now calculate the RA and Dec for the pixel coordinages in the input image and see if the separations between the science image and Gaia have improved."
   ]
  },
  {
   "cell_type": "code",
   "execution_count": null,
   "id": "d8cb0f67",
   "metadata": {},
   "outputs": [],
   "source": [
    "new_radec = # complete"
   ]
  },
  {
   "cell_type": "markdown",
   "id": "fd4fe4ee-5beb-4e17-a6f7-c5a5ea2c6806",
   "metadata": {},
   "source": [
    "#### 3. Fit the WCS over the whole focal plane and look for camera-level effects"
   ]
  },
  {
   "cell_type": "markdown",
   "id": "d4efceea-6236-4143-bcef-cf3860e4e087",
   "metadata": {},
   "source": [
    "We are going to put the above steps together in a loop over all the detectors to get an improved WCS for each detector. "
   ]
  },
  {
   "cell_type": "code",
   "execution_count": null,
   "id": "ce80ba6a-d2be-46b3-8d01-ab6b6cd38859",
   "metadata": {},
   "outputs": [],
   "source": [
    "source_files = glob('astrometry_data/1180_*.fits')\n",
    "get_detector = re.compile(r'astrometry_data/1180_(\\d+?).fits')\n",
    "orig_wcs_dict = {}\n",
    "new_wcs_dict = {}\n",
    "for source_file in source_files:\n",
    "    sources = # complete\n",
    "    \n",
    "    s = get_detector.search(source_file)\n",
    "    detector = int(s.group(1))\n",
    "\n",
    "    orig_wcs_dict[detector] = # complete\n",
    "\n",
    "    source_cat = # complete\n",
    "\n",
    "    source_coords = # complete\n",
    "\n",
    "    # Choose good matches as above...\n",
    "\n",
    "    new_wcs = # complete\n",
    "    new_wcs_dict[detector] = new_wcs\n"
   ]
  },
  {
   "cell_type": "markdown",
   "id": "b8f65252",
   "metadata": {},
   "source": [
    "Plot the difference in RA and Dec vs the simple wcs position, then look at this difference over the focal plane. Are there coherent distortions between detectors?\n",
    "\n",
    "To do this, I recommend making a grid in x and y pixel values and calculating what RA and Dec those map to using the original and new WCSs for each detector. "
   ]
  },
  {
   "cell_type": "code",
   "execution_count": null,
   "id": "c7492c54",
   "metadata": {},
   "outputs": [],
   "source": [
    "x_range = np.arange(0, 2048, 100)\n",
    "y_range = np.arange(0, 4096, 100)\n",
    "\n",
    "# complete"
   ]
  },
  {
   "cell_type": "markdown",
   "id": "4959cf05-e15e-4cab-b653-3f7e5570f09a",
   "metadata": {},
   "source": [
    "#### 4. How good is the model?\n",
    "\n",
    "Use the pixel scale matrix (the CD matrix) to approximate the WCS Jacobian and propagate the x and y errors to RA and Dec. You can use this equation for the error propagation:\n",
    "\n",
    "$$ \\mathbf{C}_{RA, Dec} = \\mathbf{J} \\mathbf{C}_{x, y} \\mathbf{J}^T\n",
    "$$\n",
    "\n",
    "where $\\mathbf{C}_{x, y}$ is the x,y covariance matrix, \\mathbf{C}_{RA, Dec} is the covariance in RA and Dec, and \\mathbf{J} is the Jacobian of the WCS transformation.\n"
   ]
  },
  {
   "cell_type": "code",
   "execution_count": null,
   "id": "3b84cea5-ccb3-43dc-96b3-fbbb2f0a764a",
   "metadata": {},
   "outputs": [],
   "source": [
    "print(new_wcs.pixel_scale_matrix)"
   ]
  },
  {
   "cell_type": "markdown",
   "id": "b441ceea",
   "metadata": {},
   "source": [
    "Using this covariance, calculated the chi-squared of the model for the WCS that we have calculated."
   ]
  },
  {
   "cell_type": "code",
   "execution_count": null,
   "id": "8d78fcfd",
   "metadata": {},
   "outputs": [],
   "source": []
  }
 ],
 "metadata": {
  "kernelspec": {
   "display_name": "Python 3 (ipykernel)",
   "language": "python",
   "name": "python3"
  },
  "language_info": {
   "codemirror_mode": {
    "name": "ipython",
    "version": 3
   },
   "file_extension": ".py",
   "mimetype": "text/x-python",
   "name": "python",
   "nbconvert_exporter": "python",
   "pygments_lexer": "ipython3",
   "version": "3.11.4"
  }
 },
 "nbformat": 4,
 "nbformat_minor": 5
}
