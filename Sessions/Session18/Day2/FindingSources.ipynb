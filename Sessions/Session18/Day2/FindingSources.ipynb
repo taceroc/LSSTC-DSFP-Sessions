{
 "cells": [
  {
   "cell_type": "markdown",
   "metadata": {},
   "source": [
    "# Background Subtraction and Source Detection\n",
    "\n",
    "\n",
    "**Version 0.2**\n",
    "\n",
    "By Yusra AlSayyad (Princeton University)"
   ]
  },
  {
   "cell_type": "markdown",
   "metadata": {},
   "source": [
    "Note: for portability, the examples in this notebook are one-dimensional and avoid using libraries. In practice on real astronomical images, I recommend using a library for astronomical image processing, e.g. AstroPy or the LSST Stack. \n",
    "\n",
    "## Background Estimation\n",
    "\n",
    "This exercise builds on the `Day1/introductionToBasicStellarPhotometry.ipynb` notebook.  We're going to use the same single stellar simulation, but with increasingly complex backgrounds.\n",
    "\n",
    "\n",
    "First, setup the simulation and necessary imports:"
   ]
  },
  {
   "cell_type": "code",
   "execution_count": 2,
   "metadata": {},
   "outputs": [],
   "source": [
    "import numpy as np\n",
    "import matplotlib.pyplot as plt\n",
    "from scipy.stats import norm\n",
    "from matplotlib.ticker import MultipleLocator\n",
    "\n",
    "%matplotlib inline"
   ]
  },
  {
   "cell_type": "code",
   "execution_count": 3,
   "metadata": {},
   "outputs": [],
   "source": [
    "def pixel_plot(pix, counts, fig=None, ax=None): \n",
    "    \"\"\"Make a pixelated 1D plot\"\"\"\n",
    "    if fig is None and ax is None:\n",
    "        fig, ax = plt.subplots()\n",
    "    \n",
    "    ax.step(pix, counts, \n",
    "            where='post')\n",
    "    \n",
    "    ax.set_xlabel('pixel number')\n",
    "    ax.set_ylabel('relative counts')\n",
    "    ax.xaxis.set_minor_locator(MultipleLocator(1))\n",
    "    ax.xaxis.set_major_locator(MultipleLocator(5))\n",
    "    fig.tight_layout()\n",
    "    return fig, ax"
   ]
  },
  {
   "cell_type": "code",
   "execution_count": 4,
   "metadata": {},
   "outputs": [],
   "source": [
    "# Define your PSF function phi()\n",
    "# It is sufficient to copy and paste from\n",
    "# your IntroductionToBasicStellarPhotometry noteboook\n",
    "\n",
    "def phi(x, mu, fwhm):\n",
    "    \"\"\"Evalute the 1d PSF N(mu, sigma^2) along x\n",
    "    \n",
    "    Parameters\n",
    "    ----------\n",
    "    x : array-like of shape (n_pixels,)\n",
    "        detector pixel number\n",
    "    mu : float\n",
    "        mean position of the 1D star\n",
    "    fwhm : float\n",
    "        Full-width half-maximum of the stellar profile on the detector\n",
    "    \n",
    "    Returns\n",
    "    -------\n",
    "    flux : array-like of shape (n_pixels,)\n",
    "        Flux in each pixel of the input array\n",
    "    \"\"\"\n",
    "    sigma = fwhm / 2.3548\n",
    "    flux = ( 1 / (sigma * np.sqrt(2 * np.pi)) ) * np.exp( - (x - mu) ** 2 / 2 * sigma ** 2)\n",
    "    return flux\n",
    "\n",
    "\n",
    "# Define your image simulation function\n",
    "# It is sufficient to copy and paste from\n",
    "# your introductionToBasicStellarPhotometry noteboook\n",
    "\n",
    "# Note that the background S should now be supplied as \n",
    "# an array of length (S) \n",
    "\n",
    "def simulate(x, mu, fwhm, S, F):\n",
    "    \"\"\"simulate a noisy stellar signal\n",
    "    \n",
    "    Parameters\n",
    "    ----------\n",
    "    x : array-like\n",
    "        detector pixel number\n",
    "    mu : float\n",
    "        mean position of the 1D star\n",
    "    fwhm : float\n",
    "        Full-width half-maximum of the stellar profile on the detector\n",
    "    S : float or array-like of len(x)\n",
    "        Sky background for each pixel\n",
    "    F : float\n",
    "        Total stellar flux\n",
    "    \n",
    "    Returns\n",
    "    -------\n",
    "    noisy_counts : array-like (same shape as x)\n",
    "        the (noisy) number of counts in each pixel\n",
    "    \"\"\"\n",
    "    # complete\n",
    "    \n",
    "    star = F * phi(x, mu, fwhm)\n",
    "    \n",
    "    star_noisy  = star + S * np.ones(len(x))\n",
    "    noisy_counts = star_noisy + np.random.poisson(star_noisy,len(x)) # complete\n",
    "    \n",
    "    return noisy_counts "
   ]
  },
  {
   "cell_type": "code",
   "execution_count": null,
   "metadata": {},
   "outputs": [],
   "source": []
  },
  {
   "cell_type": "markdown",
   "metadata": {},
   "source": [
    "## Problem 1) Simple 1-D Background Estimation\n",
    "\n",
    "\n",
    "### Problem 1.1) Estimate a the background as a constant offset (order = 0)\n",
    "\n",
    "\n",
    "For this problem, we will use a simulated star with a constant background offset of $S=100$.\n",
    "\n",
    "Background estimation is typically done by inspecting the distribution of counts in pixel bins. First, inspect the distribution of counts, and pick an estimator for the background that is robust to the star (meaning that your estimate doesn't change depending on the star's flux). Remember that we haven't done detection yet, and don't know where the sources are. \n"
   ]
  },
  {
   "cell_type": "code",
   "execution_count": 5,
   "metadata": {},
   "outputs": [
    {
     "data": {
      "text/plain": [
       "(<Figure size 800x400 with 1 Axes>,\n",
       " <Axes: xlabel='pixel number', ylabel='relative counts'>)"
      ]
     },
     "execution_count": 5,
     "metadata": {},
     "output_type": "execute_result"
    },
    {
     "data": {
      "image/png": "[encoded data removed]",
      "text/plain": [
       "<Figure size 800x400 with 1 Axes>"
      ]
     },
     "metadata": {},
     "output_type": "display_data"
    }
   ],
   "source": [
    "# simulate the star\n",
    "x = np.linspace(0, 100)\n",
    "mu = 35\n",
    "S = 100\n",
    "fwhm = 5\n",
    "F = 500\n",
    "\n",
    "fig = plt.figure(figsize=(8,4))\n",
    "ax = plt.subplot()\n",
    "sim_star = simulate(x, mu, fwhm, S, F)# complete\n",
    "pixel_plot(x, sim_star, fig=fig, ax=ax)\n"
   ]
  },
  {
   "cell_type": "code",
   "execution_count": 15,
   "metadata": {},
   "outputs": [
    {
     "name": "stdout",
     "output_type": "stream",
     "text": [
      "My background estimate = 34.8998\n",
      "The mean pixel count = 201.5032\n"
     ]
    },
    {
     "data": {
      "text/plain": [
       "<Figure size 600x400 with 0 Axes>"
      ]
     },
     "metadata": {},
     "output_type": "display_data"
    }
   ],
   "source": [
    "# plot and inspect histogram\n",
    "# -- what histogram?\n",
    "fig = plt.figure(figsize=(6,4))\n",
    "# complete\n",
    "\n",
    "S_estimate = (np.random.normal(mu, fwhm / 2.3548, len(x))).mean() # complete\n",
    "\n",
    "print('My background estimate = {:.4f}'.format(S_estimate))\n",
    "print('The mean pixel count = {:.4f}'.format(np.mean(simulate(x, mu, fwhm, S, F)))) # complete"
   ]
  },
  {
   "cell_type": "code",
   "execution_count": 14,
   "metadata": {},
   "outputs": [
    {
     "data": {
      "text/plain": [
       "(<Figure size 640x480 with 1 Axes>,\n",
       " <Axes: xlabel='pixel number', ylabel='relative counts'>)"
      ]
     },
     "execution_count": 14,
     "metadata": {},
     "output_type": "execute_result"
    },
    {
     "data": {
      "image/png": "[encoded data removed]",
      "text/plain": [
       "<Figure size 640x480 with 1 Axes>"
      ]
     },
     "metadata": {},
     "output_type": "display_data"
    }
   ],
   "source": [
    "# plot your background model over the \"image\"\n",
    "\n",
    "fig, ax = pixel_plot(x, sim_star)\n",
    "pixel_plot(x, np.random.normal(mu, fwhm / 2.3548, len(x)), fig=fig, ax=ax)"
   ]
  },
  {
   "cell_type": "markdown",
   "metadata": {},
   "source": [
    "### Problem 1.2) Estimate the background as a ramp/line (order = 1)\n",
    "\n",
    "Now let's simulate a slightly more complicated background a linear ramp: $y = 3x + 100$. First, simulate the same star with the new background. Then we're going to fit it using the following steps:\n",
    "* Bin the image\n",
    "* Use your robust estimator to estimate the background value per bin center\n",
    "* Fit these bin centers with a model\n",
    "\n",
    "* A common simple model that astronomers use are Chebyshev polynomials. Chebyshevs have some very nice properties that prevent ringing at the edges of the fit window. Another popular way to \"model\" the bin centers is non-parametrically via interpolation."
   ]
  },
  {
   "cell_type": "code",
   "execution_count": 17,
   "metadata": {},
   "outputs": [],
   "source": [
    "np.linspace?"
   ]
  },
  {
   "cell_type": "code",
   "execution_count": 18,
   "metadata": {},
   "outputs": [
    {
     "data": {
      "text/plain": [
       "array([  1.        ,   4.02040816,  11.04081633,  20.06122449,\n",
       "        19.08163265,  29.10204082,  24.12244898,  38.14285714,\n",
       "        33.16326531,  38.18367347,  38.20408163,  46.2244898 ,\n",
       "        56.24489796,  55.26530612,  70.28571429,  62.30612245,\n",
       "        75.32691112, 222.40063283,  72.47372924,  74.3877551 ,\n",
       "        84.40816327,  83.42857143,  89.44897959, 101.46938776,\n",
       "        92.48979592, 101.51020408, 122.53061224, 104.55102041,\n",
       "       125.57142857, 114.59183673, 116.6122449 , 125.63265306,\n",
       "       120.65306122, 139.67346939, 125.69387755, 142.71428571,\n",
       "       143.73469388, 162.75510204, 157.7755102 , 164.79591837,\n",
       "       173.81632653, 160.83673469, 168.85714286, 152.87755102,\n",
       "       171.89795918, 189.91836735, 172.93877551, 190.95918367,\n",
       "       205.97959184, 214.        ])"
      ]
     },
     "execution_count": 18,
     "metadata": {},
     "output_type": "execute_result"
    }
   ],
   "source": [
    "# Double check that your simulate function can take S optionally as array-like\n",
    "S = np.linspace(1,100,50)\n",
    "simulate(x, mu, fwhm, S, F)"
   ]
  },
  {
   "cell_type": "code",
   "execution_count": 86,
   "metadata": {},
   "outputs": [
    {
     "data": {
      "text/plain": [
       "(<Figure size 640x480 with 1 Axes>,\n",
       " <Axes: xlabel='pixel number', ylabel='relative counts'>)"
      ]
     },
     "execution_count": 86,
     "metadata": {},
     "output_type": "execute_result"
    },
    {
     "data": {
      "image/png": "[encoded data removed]",
      "text/plain": [
       "<Figure size 640x480 with 1 Axes>"
      ]
     },
     "metadata": {},
     "output_type": "display_data"
    }
   ],
   "source": [
    "# Create and plot the image with S = 3*x + 100\n",
    "S = 3 * x + 100\n",
    "sim_star = simulate(x, mu, fwhm, S, F)# complete\n",
    "pixel_plot(x, sim_star)"
   ]
  },
  {
   "cell_type": "code",
   "execution_count": 87,
   "metadata": {},
   "outputs": [
    {
     "data": {
      "text/plain": [
       "array([191.        , 205.12244898, 205.24489796, 230.36734694,\n",
       "       247.48979592, 256.6122449 , 281.73469388, 297.85714286,\n",
       "       304.97959184, 321.10204082, 305.2244898 , 345.34693878,\n",
       "       339.46938776, 343.59183673, 380.71428571, 369.83673469,\n",
       "       378.95956419, 567.13532671, 413.31046394, 435.32653061,\n",
       "       469.44897959, 459.57142857, 462.69387755, 486.81632653,\n",
       "       514.93877551, 483.06122449, 515.18367347, 562.30612245,\n",
       "       538.42857143, 542.55102041, 536.67346939, 563.79591837,\n",
       "       575.91836735, 568.04081633, 619.16326531, 621.28571429,\n",
       "       606.40816327, 637.53061224, 693.65306122, 643.7755102 ,\n",
       "       713.89795918, 695.02040816, 709.14285714, 745.26530612,\n",
       "       725.3877551 , 759.51020408, 757.63265306, 768.75510204,\n",
       "       797.87755102, 799.        ])"
      ]
     },
     "execution_count": 87,
     "metadata": {},
     "output_type": "execute_result"
    }
   ],
   "source": [
    "sim_star"
   ]
  },
  {
   "cell_type": "code",
   "execution_count": 95,
   "metadata": {},
   "outputs": [
    {
     "data": {
      "text/plain": [
       "array([1, 1, 1, 1, 1, 1, 1, 1, 1, 1, 2, 2, 2, 2, 2, 2, 2, 2, 2, 2, 3, 3,\n",
       "       3, 3, 3, 3, 3, 3, 3, 3, 4, 4, 4, 4, 4, 4, 4, 4, 4, 4, 5, 5, 5, 5,\n",
       "       5, 5, 5, 5, 5, 6])"
      ]
     },
     "execution_count": 95,
     "metadata": {},
     "output_type": "execute_result"
    }
   ],
   "source": [
    "bins = np.linspace(0,100,6)\n",
    "inds = np.digitize(x, bins)\n",
    "inds\n",
    "# for n in range(x.size):\n",
    "#     print(bins[inds[n]-1], \"<=\", x[n], \"<\", bins[inds[n]])"
   ]
  },
  {
   "cell_type": "code",
   "execution_count": 96,
   "metadata": {},
   "outputs": [
    {
     "data": {
      "text/plain": [
       "array([  0.,  20.,  40.,  60.,  80., 100.])"
      ]
     },
     "execution_count": 96,
     "metadata": {},
     "output_type": "execute_result"
    }
   ],
   "source": [
    "np.linspace(0,100,6)"
   ]
  },
  {
   "cell_type": "code",
   "execution_count": 97,
   "metadata": {},
   "outputs": [
    {
     "data": {
      "text/plain": [
       "array([1, 1, 1, 1, 1, 1, 1, 1, 1, 1, 2, 2, 2, 2, 2, 2, 2, 2, 2, 2, 3, 3,\n",
       "       3, 3, 3, 3, 3, 3, 3, 3, 4, 4, 4, 4, 4, 4, 4, 4, 4, 4, 5, 5, 5, 5,\n",
       "       5, 5, 5, 5, 5, 6])"
      ]
     },
     "execution_count": 97,
     "metadata": {},
     "output_type": "execute_result"
    }
   ],
   "source": [
    "inds"
   ]
  },
  {
   "cell_type": "code",
   "execution_count": 101,
   "metadata": {},
   "outputs": [
    {
     "ename": "ValueError",
     "evalue": "cannot reshape array of size 50 into shape (2,20)",
     "output_type": "error",
     "traceback": [
      "\u001b[0;31m---------------------------------------------------------------------------\u001b[0m",
      "\u001b[0;31mValueError\u001b[0m                                Traceback (most recent call last)",
      "Cell \u001b[0;32mIn[101], line 1\u001b[0m\n\u001b[0;32m----> 1\u001b[0m \u001b[43msim_star\u001b[49m\u001b[38;5;241;43m.\u001b[39;49m\u001b[43mreshape\u001b[49m\u001b[43m(\u001b[49m\u001b[38;5;241;43m2\u001b[39;49m\u001b[43m,\u001b[49m\u001b[38;5;241;43m20\u001b[39;49m\u001b[43m)\u001b[49m\n",
      "\u001b[0;31mValueError\u001b[0m: cannot reshape array of size 50 into shape (2,20)"
     ]
    }
   ],
   "source": [
    "sim_star.reshape(2,20)"
   ]
  },
  {
   "cell_type": "code",
   "execution_count": 91,
   "metadata": {},
   "outputs": [],
   "source": [
    "bin_values= []\n",
    "for j in (set(inds)):\n",
    "    bin_values.append(sim_star[j])"
   ]
  },
  {
   "cell_type": "code",
   "execution_count": 92,
   "metadata": {},
   "outputs": [
    {
     "data": {
      "text/plain": [
       "[191.0,\n",
       " 205.12244897959184,\n",
       " 205.24489795918367,\n",
       " 230.3673469387755,\n",
       " 247.48979591836735,\n",
       " 256.61224489795916,\n",
       " 281.734693877551]"
      ]
     },
     "execution_count": 92,
     "metadata": {},
     "output_type": "execute_result"
    }
   ],
   "source": [
    "# bin the image in 20-pixel bins \n",
    "\n",
    "# complete\n",
    "bin_centers = np.linspace(1,100,6) # complete\n",
    "bin_values "
   ]
  },
  {
   "cell_type": "code",
   "execution_count": 93,
   "metadata": {},
   "outputs": [
    {
     "data": {
      "text/plain": [
       "array([-257.06795795,    1.38146205])"
      ]
     },
     "execution_count": 93,
     "metadata": {},
     "output_type": "execute_result"
    }
   ],
   "source": [
    "np.polynomial.chebyshev.chebfit(bin_values[:-1], bin_centers, 1)"
   ]
  },
  {
   "cell_type": "code",
   "execution_count": 94,
   "metadata": {},
   "outputs": [
    {
     "data": {
      "text/plain": [
       "[<matplotlib.lines.Line2D at 0x7f4a68c55c50>]"
      ]
     },
     "execution_count": 94,
     "metadata": {},
     "output_type": "execute_result"
    },
    {
     "data": {
      "image/png": "[encoded data removed]",
      "text/plain": [
       "<Figure size 640x480 with 1 Axes>"
      ]
     },
     "metadata": {},
     "output_type": "display_data"
    }
   ],
   "source": [
    "# Fit the bin_values vs bin_centers with a 1st-order chebyshev polynomial\n",
    "# Evaluate your model for the full image\n",
    "# hint: look up np.polynomial.chebyshev.chebfit and np.polynomial.chebyshev.chebeval\n",
    "\n",
    "# complete\n",
    "\n",
    "# Replot the image: \n",
    "fig, ax = pixel_plot(x, sim_star)\n",
    "# binned values\n",
    "ax.plot(bin_centers, bin_values[:-1], 'o')\n",
    "\n",
    "# Overplot your background model:\n",
    "# complete"
   ]
  },
  {
   "cell_type": "code",
   "execution_count": null,
   "metadata": {},
   "outputs": [],
   "source": [
    "# Finally plot your background subtracted image:\n",
    "\n",
    "# complete"
   ]
  },
  {
   "cell_type": "markdown",
   "metadata": {},
   "source": [
    "### Problem 1.3) Estimate a more realistic background (still in 1D)\n",
    "\n",
    "Now repeat the the exercise in problem 1.2 with a more complex background. "
   ]
  },
  {
   "cell_type": "code",
   "execution_count": null,
   "metadata": {},
   "outputs": [],
   "source": [
    "SIGMA_PER_FWHM = 2*np.sqrt(2*np.log(2))\n",
    "\n",
    "fwhm = 5\n",
    "x = np.linspace(0, 100)\n",
    "background = 1000*norm.pdf(x, 50, 18) + 100*norm.pdf(x, 20, fwhm/SIGMA_PER_FWHM) + 100*norm.pdf(x, 60, fwhm/SIGMA_PER_FWHM)\n",
    "\n",
    "sim_star3 = simulate(x=x, mu=35, fwhm=fwhm, S=background, F=200)\n",
    "fig, ax = pixel_plot(x, sim_star3)"
   ]
  },
  {
   "cell_type": "markdown",
   "metadata": {},
   "source": [
    "#### 1.3.1) Bin the image. Plot the bin centers. What bin size did you pick? "
   ]
  },
  {
   "cell_type": "code",
   "execution_count": null,
   "metadata": {},
   "outputs": [],
   "source": [
    "bin_centers = # complete\n",
    "\n",
    "bin_values = # complete"
   ]
  },
  {
   "cell_type": "code",
   "execution_count": null,
   "metadata": {},
   "outputs": [],
   "source": [
    "# overplot the binned esimtates:\n",
    "ax.plot(bin_centers, bin_values, 'o')"
   ]
  },
  {
   "cell_type": "markdown",
   "metadata": {},
   "source": [
    "#### 1.3.2) Spatially model the binned estimates (bin_values vs bin_centers) as a chebyshev polynomial.\n",
    "\n",
    "Evaluate your model on the image grid and overplot.(what degree/order did you pick?)"
   ]
  },
  {
   "cell_type": "code",
   "execution_count": null,
   "metadata": {},
   "outputs": [],
   "source": [
    "# complete"
   ]
  },
  {
   "cell_type": "markdown",
   "metadata": {},
   "source": [
    "#### 1.3.3) Subtract off the model and plot the \"background-subtracted image.\" "
   ]
  },
  {
   "cell_type": "code",
   "execution_count": null,
   "metadata": {},
   "outputs": [],
   "source": [
    "# Plot the background subtracted image\n"
   ]
  },
  {
   "cell_type": "markdown",
   "metadata": {},
   "source": [
    "## Problem 2) Finding Sources\n",
    "\n",
    "Now that we have subtracted background image,  let’s look for sources.  In the lecture we focused on the matched filter interpretation.  Here we will go into the hypothesis testing and maximum likelihood interpretations. \n",
    "\n",
    "### Maximum likelihood interpretation:\n",
    "\n",
    " Assume that we know there is a point source somewhere in this image.   We want to find  to pixel that has the maximum likelihood of having a point source centered on it.  recall from session 10, the probability for an  individual observation $I_i$ is:\n",
    "\n",
    "$$P(X_i) = \\frac{1}{\\sqrt{2\\pi\\sigma_i^2}} \\exp{-\\frac{(X_i - y_i)^2}{2\\sigma_i^2}}$$\n",
    "\n",
    "Here: $X_i$ is the pixel value of pixel $i$ in the image and $y_i$ is the model prediction for that pixel. \n",
    "\n",
    "The model in this case is your `simulate()` function from the `IntroductionToBasicStellarPhotometry.ipynb` notebook: the PSF evaluated at a distance from the center multiplied by the flux amplitude: $F * \\phi(x - x_{center}) + S$ Where $F$ is the flux amplitude $\\phi$ is the PSF profile (a function of position), and $S$ is the background.\n",
    "\n",
    "Plug it in:\n",
    "$$P(X_i) = \\frac{1}{\\sqrt{2\\pi\\sigma_i^2}} \\exp{-\\frac{(X_i - (F * \\phi_i(x_{center}) + S))^2}{2\\sigma_i^2}}$$\n",
    "\n",
    "\n",
    "\n",
    "### Hypothesis test interpretation:\n",
    "\n",
    "If I were teaching source detection to my non-scientist, college stats 101 students, I'd frame the problem like this:\n",
    "\n",
    "Pretend you have an infinitely large population of pixels Say I know definitively, that the arbitrarily large population of pixels is drawn from $N(0,100)$ (has a variance of 10). I have another sample of 13 pixels. I want to tesst the hypothesis that those 13 pixels were drawn from the $N(0,100)$ pop too. \n",
    "\n",
    "Test the hypothesis that your subsample of 13 pixels were drawn from the larger sample.\n",
    "* $H_0$: $\\mu = 0$\n",
    "* $H_A$: $\\mu > 0$\n",
    "\n",
    "$$z = \\frac{\\bar{x} - \\mu}{\\sigma / \\sqrt{n}} $$\n",
    "$$z = \\frac{\\sum{x}/13 - 0}{10 /\\sqrt{13}} $$\n",
    "\n",
    "OK, if this is coming back now, let's replace this with our *real* estimator for PSF flux, which is a *weighted mean* of the pixels where the weights are the PSF $\\phi_i$. Whenever I forget the formulas for weighted means, I consult the [wikipedia page](https://en.wikipedia.org/wiki/Weighted_arithmetic_mean).\n",
    "\n",
    "Now tweak it for a weighted mean (PSF flux):\n",
    "\n",
    "$$ z = \\frac{\\sum{\\phi_i x_i} - \\mu} {\\sqrt{ \\sum{\\phi_i^2 \\sigma_i^2}}} $$\n",
    "\n",
    "Where the denominator is from the variance estimate of a weighted mean.  For constant $\\sigma$ it reduces to $\\sigma_{\\bar{x}}^2 = \\sigma^2 \\sum{\\phi^2_i}$, and for a constant $\\phi$ this reduces to $\\sigma_{\\bar{x}}^2 = \\sigma^2 /n$, the denomiator in the simple mean example above. Replace $\\mu=0$ again. \n",
    "\n",
    "$$ z = \\frac{\\sum{\\phi_i x_i}} {\\sqrt{ \\sum{\\phi_i^2 \\sigma_i^2}}} $$\n",
    "Our detection map is just the nominator for each pixel! We deal with the denominator later when choosing the thresholding, but we could just as easily divide the whole image by the denominator and have a z-score image!\n",
    "\n",
    "### 2.0) Plot the problem image"
   ]
  },
  {
   "cell_type": "code",
   "execution_count": null,
   "metadata": {},
   "outputs": [],
   "source": [
    "# set up simulation\n",
    "x = np.linspace(0, 100)\n",
    "mu = 35\n",
    "S = 100\n",
    "fwhm = 5\n",
    "F = 300\n",
    "\n",
    "fig = plt.figure(figsize=(8,4))\n",
    "ax = plt.subplot()\n",
    "sim_star = simulate(x, mu=mu, fwhm=fwhm, S=S, F=F)\n",
    "\n",
    "# To simplify this pretend \\sqrt{\\sum \\phi_i^2 \\sigma_i^2we know for sure the background = 100\n",
    "# Plots the backround subtracted image\n",
    "image = sim_star - 100\n",
    "pixel_plot(x, image, fig=fig, ax=ax)"
   ]
  },
  {
   "cell_type": "markdown",
   "metadata": {},
   "source": [
    "### 2.1) Make a kernel for the PSF.\n",
    "\n",
    "Properties of kernels: They're centered at x=0 (which also means that they have an odd number of pixels) and sum up to 1. You can use your `phi()`."
   ]
  },
  {
   "cell_type": "code",
   "execution_count": null,
   "metadata": {},
   "outputs": [],
   "source": [
    "xx = # complete\n",
    "kernel = # complete  \n",
    "\n",
    "# plot your kernel"
   ]
  },
  {
   "cell_type": "markdown",
   "metadata": {},
   "source": [
    "### 2.2) Correlate the image with the PSF kernel,\n",
    "\n",
    "and plot the result.\n",
    "\n",
    "What are the tradeoffs when choosing the size of your PSF kernel? What happens if its too big? What happens if it's too small.? \n",
    "\n",
    "**hint:** `scipy.signal.convolve`"
   ]
  },
  {
   "cell_type": "code",
   "execution_count": null,
   "metadata": {},
   "outputs": [],
   "source": [
    "# detection_image = # complete\n",
    "\n",
    "# plot your detection image \n",
    "# Note: pay attention to how scipy.signal.convolve handles the edges. "
   ]
  },
  {
   "cell_type": "markdown",
   "metadata": {},
   "source": [
    "### 2.3) Detect pixels \n",
    "\n",
    "for which the null hypothesis that there's no source centered there is ruled out at the 5$\\sigma$ level."
   ]
  },
  {
   "cell_type": "code",
   "execution_count": null,
   "metadata": {},
   "outputs": [],
   "source": [
    "# Using a robust estimator for the detection image standard deviation,\n",
    "# Compute the 5 sigma threshold\n",
    "\n",
    "threshold_value = # complete\n",
    "print('5 sigma threshold value is = {:.4f}'.format(threshold_value))"
   ]
  },
  {
   "cell_type": "markdown",
   "metadata": {},
   "source": [
    "### 2.4) Dilate footprint to provide a window or region for the point source.\n",
    "We will use this window to compute the centroid and total flux of the star in the next two lessons. In the meantime, compute the flux like we did in introductionToStellarPhotometry assuming the input center. "
   ]
  },
  {
   "cell_type": "code",
   "execution_count": null,
   "metadata": {},
   "outputs": [],
   "source": [
    "# complete"
   ]
  },
  {
   "cell_type": "markdown",
   "metadata": {},
   "source": [
    "## Challenge problem A\n",
    "\n",
    "Combine problem 1 and 2 to iterate background estimation and source detection, masking the pixels with detections. Use the more complex background from 1.3. Solution not provided."
   ]
  },
  {
   "cell_type": "markdown",
   "metadata": {},
   "source": [
    "## Challenge problem B\n",
    "\n",
    "Repeat challenge problem A in two dimensions. Solution not provided. You're on your own."
   ]
  },
  {
   "cell_type": "code",
   "execution_count": null,
   "metadata": {},
   "outputs": [],
   "source": []
  }
 ],
 "metadata": {
  "kernelspec": {
   "display_name": "Python 3 (ipykernel)",
   "language": "python",
   "name": "python3"
  },
  "language_info": {
   "codemirror_mode": {
    "name": "ipython",
    "version": 3
   },
   "file_extension": ".py",
   "mimetype": "text/x-python",
   "name": "python",
   "nbconvert_exporter": "python",
   "pygments_lexer": "ipython3",
   "version": "3.11.4"
  }
 },
 "nbformat": 4,
 "nbformat_minor": 2
}
